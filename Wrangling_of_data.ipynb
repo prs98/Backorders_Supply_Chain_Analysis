{
 "cells": [
  {
   "cell_type": "code",
   "execution_count": 155,
   "id": "73288872",
   "metadata": {},
   "outputs": [],
   "source": [
    "#Importing the packages\n",
    "import pandas as pd\n",
    "import numpy as np\n",
    "import matplotlib.pylab as plt\n",
    "import seaborn as sns\n",
    "\n",
    "from sklearn.linear_model import LinearRegression"
   ]
  },
  {
   "cell_type": "code",
   "execution_count": 156,
   "id": "0b2058b0",
   "metadata": {},
   "outputs": [
    {
     "data": {
      "text/html": [
       "<div>\n",
       "<style scoped>\n",
       "    .dataframe tbody tr th:only-of-type {\n",
       "        vertical-align: middle;\n",
       "    }\n",
       "\n",
       "    .dataframe tbody tr th {\n",
       "        vertical-align: top;\n",
       "    }\n",
       "\n",
       "    .dataframe thead th {\n",
       "        text-align: right;\n",
       "    }\n",
       "</style>\n",
       "<table border=\"1\" class=\"dataframe\">\n",
       "  <thead>\n",
       "    <tr style=\"text-align: right;\">\n",
       "      <th></th>\n",
       "      <th>sku</th>\n",
       "      <th>national_inv</th>\n",
       "      <th>lead_time</th>\n",
       "      <th>in_transit_qty</th>\n",
       "      <th>forecast_3_month</th>\n",
       "      <th>forecast_6_month</th>\n",
       "      <th>forecast_9_month</th>\n",
       "      <th>sales_1_month</th>\n",
       "      <th>sales_3_month</th>\n",
       "      <th>sales_6_month</th>\n",
       "      <th>...</th>\n",
       "      <th>pieces_past_due</th>\n",
       "      <th>perf_6_month_avg</th>\n",
       "      <th>perf_12_month_avg</th>\n",
       "      <th>local_bo_qty</th>\n",
       "      <th>deck_risk</th>\n",
       "      <th>oe_constraint</th>\n",
       "      <th>ppap_risk</th>\n",
       "      <th>stop_auto_buy</th>\n",
       "      <th>rev_stop</th>\n",
       "      <th>went_on_backorder</th>\n",
       "    </tr>\n",
       "  </thead>\n",
       "  <tbody>\n",
       "    <tr>\n",
       "      <th>0</th>\n",
       "      <td>1026827</td>\n",
       "      <td>0.0</td>\n",
       "      <td>NaN</td>\n",
       "      <td>0.0</td>\n",
       "      <td>0.0</td>\n",
       "      <td>0.0</td>\n",
       "      <td>0.0</td>\n",
       "      <td>0.0</td>\n",
       "      <td>0.0</td>\n",
       "      <td>0.0</td>\n",
       "      <td>...</td>\n",
       "      <td>0.0</td>\n",
       "      <td>-99.00</td>\n",
       "      <td>-99.00</td>\n",
       "      <td>0.0</td>\n",
       "      <td>No</td>\n",
       "      <td>No</td>\n",
       "      <td>No</td>\n",
       "      <td>Yes</td>\n",
       "      <td>No</td>\n",
       "      <td>No</td>\n",
       "    </tr>\n",
       "    <tr>\n",
       "      <th>1</th>\n",
       "      <td>1043384</td>\n",
       "      <td>2.0</td>\n",
       "      <td>9.0</td>\n",
       "      <td>0.0</td>\n",
       "      <td>0.0</td>\n",
       "      <td>0.0</td>\n",
       "      <td>0.0</td>\n",
       "      <td>0.0</td>\n",
       "      <td>0.0</td>\n",
       "      <td>0.0</td>\n",
       "      <td>...</td>\n",
       "      <td>0.0</td>\n",
       "      <td>0.99</td>\n",
       "      <td>0.99</td>\n",
       "      <td>0.0</td>\n",
       "      <td>No</td>\n",
       "      <td>No</td>\n",
       "      <td>No</td>\n",
       "      <td>Yes</td>\n",
       "      <td>No</td>\n",
       "      <td>No</td>\n",
       "    </tr>\n",
       "    <tr>\n",
       "      <th>2</th>\n",
       "      <td>1043696</td>\n",
       "      <td>2.0</td>\n",
       "      <td>NaN</td>\n",
       "      <td>0.0</td>\n",
       "      <td>0.0</td>\n",
       "      <td>0.0</td>\n",
       "      <td>0.0</td>\n",
       "      <td>0.0</td>\n",
       "      <td>0.0</td>\n",
       "      <td>0.0</td>\n",
       "      <td>...</td>\n",
       "      <td>0.0</td>\n",
       "      <td>-99.00</td>\n",
       "      <td>-99.00</td>\n",
       "      <td>0.0</td>\n",
       "      <td>Yes</td>\n",
       "      <td>No</td>\n",
       "      <td>No</td>\n",
       "      <td>Yes</td>\n",
       "      <td>No</td>\n",
       "      <td>No</td>\n",
       "    </tr>\n",
       "    <tr>\n",
       "      <th>3</th>\n",
       "      <td>1043852</td>\n",
       "      <td>7.0</td>\n",
       "      <td>8.0</td>\n",
       "      <td>0.0</td>\n",
       "      <td>0.0</td>\n",
       "      <td>0.0</td>\n",
       "      <td>0.0</td>\n",
       "      <td>0.0</td>\n",
       "      <td>0.0</td>\n",
       "      <td>0.0</td>\n",
       "      <td>...</td>\n",
       "      <td>0.0</td>\n",
       "      <td>0.10</td>\n",
       "      <td>0.13</td>\n",
       "      <td>0.0</td>\n",
       "      <td>No</td>\n",
       "      <td>No</td>\n",
       "      <td>No</td>\n",
       "      <td>Yes</td>\n",
       "      <td>No</td>\n",
       "      <td>No</td>\n",
       "    </tr>\n",
       "    <tr>\n",
       "      <th>4</th>\n",
       "      <td>1044048</td>\n",
       "      <td>8.0</td>\n",
       "      <td>NaN</td>\n",
       "      <td>0.0</td>\n",
       "      <td>0.0</td>\n",
       "      <td>0.0</td>\n",
       "      <td>0.0</td>\n",
       "      <td>0.0</td>\n",
       "      <td>0.0</td>\n",
       "      <td>0.0</td>\n",
       "      <td>...</td>\n",
       "      <td>0.0</td>\n",
       "      <td>-99.00</td>\n",
       "      <td>-99.00</td>\n",
       "      <td>0.0</td>\n",
       "      <td>Yes</td>\n",
       "      <td>No</td>\n",
       "      <td>No</td>\n",
       "      <td>Yes</td>\n",
       "      <td>No</td>\n",
       "      <td>No</td>\n",
       "    </tr>\n",
       "    <tr>\n",
       "      <th>...</th>\n",
       "      <td>...</td>\n",
       "      <td>...</td>\n",
       "      <td>...</td>\n",
       "      <td>...</td>\n",
       "      <td>...</td>\n",
       "      <td>...</td>\n",
       "      <td>...</td>\n",
       "      <td>...</td>\n",
       "      <td>...</td>\n",
       "      <td>...</td>\n",
       "      <td>...</td>\n",
       "      <td>...</td>\n",
       "      <td>...</td>\n",
       "      <td>...</td>\n",
       "      <td>...</td>\n",
       "      <td>...</td>\n",
       "      <td>...</td>\n",
       "      <td>...</td>\n",
       "      <td>...</td>\n",
       "      <td>...</td>\n",
       "      <td>...</td>\n",
       "    </tr>\n",
       "    <tr>\n",
       "      <th>1687856</th>\n",
       "      <td>1373987</td>\n",
       "      <td>-1.0</td>\n",
       "      <td>NaN</td>\n",
       "      <td>0.0</td>\n",
       "      <td>5.0</td>\n",
       "      <td>7.0</td>\n",
       "      <td>9.0</td>\n",
       "      <td>1.0</td>\n",
       "      <td>3.0</td>\n",
       "      <td>3.0</td>\n",
       "      <td>...</td>\n",
       "      <td>0.0</td>\n",
       "      <td>-99.00</td>\n",
       "      <td>-99.00</td>\n",
       "      <td>1.0</td>\n",
       "      <td>No</td>\n",
       "      <td>No</td>\n",
       "      <td>No</td>\n",
       "      <td>Yes</td>\n",
       "      <td>No</td>\n",
       "      <td>No</td>\n",
       "    </tr>\n",
       "    <tr>\n",
       "      <th>1687857</th>\n",
       "      <td>1524346</td>\n",
       "      <td>-1.0</td>\n",
       "      <td>9.0</td>\n",
       "      <td>0.0</td>\n",
       "      <td>7.0</td>\n",
       "      <td>9.0</td>\n",
       "      <td>11.0</td>\n",
       "      <td>0.0</td>\n",
       "      <td>8.0</td>\n",
       "      <td>11.0</td>\n",
       "      <td>...</td>\n",
       "      <td>0.0</td>\n",
       "      <td>0.86</td>\n",
       "      <td>0.84</td>\n",
       "      <td>1.0</td>\n",
       "      <td>Yes</td>\n",
       "      <td>No</td>\n",
       "      <td>No</td>\n",
       "      <td>No</td>\n",
       "      <td>No</td>\n",
       "      <td>Yes</td>\n",
       "    </tr>\n",
       "    <tr>\n",
       "      <th>1687858</th>\n",
       "      <td>1439563</td>\n",
       "      <td>62.0</td>\n",
       "      <td>9.0</td>\n",
       "      <td>16.0</td>\n",
       "      <td>39.0</td>\n",
       "      <td>87.0</td>\n",
       "      <td>126.0</td>\n",
       "      <td>35.0</td>\n",
       "      <td>63.0</td>\n",
       "      <td>153.0</td>\n",
       "      <td>...</td>\n",
       "      <td>0.0</td>\n",
       "      <td>0.86</td>\n",
       "      <td>0.84</td>\n",
       "      <td>6.0</td>\n",
       "      <td>No</td>\n",
       "      <td>No</td>\n",
       "      <td>No</td>\n",
       "      <td>Yes</td>\n",
       "      <td>No</td>\n",
       "      <td>No</td>\n",
       "    </tr>\n",
       "    <tr>\n",
       "      <th>1687859</th>\n",
       "      <td>1502009</td>\n",
       "      <td>19.0</td>\n",
       "      <td>4.0</td>\n",
       "      <td>0.0</td>\n",
       "      <td>0.0</td>\n",
       "      <td>0.0</td>\n",
       "      <td>0.0</td>\n",
       "      <td>2.0</td>\n",
       "      <td>7.0</td>\n",
       "      <td>12.0</td>\n",
       "      <td>...</td>\n",
       "      <td>0.0</td>\n",
       "      <td>0.73</td>\n",
       "      <td>0.78</td>\n",
       "      <td>1.0</td>\n",
       "      <td>No</td>\n",
       "      <td>No</td>\n",
       "      <td>No</td>\n",
       "      <td>Yes</td>\n",
       "      <td>No</td>\n",
       "      <td>No</td>\n",
       "    </tr>\n",
       "    <tr>\n",
       "      <th>1687860</th>\n",
       "      <td>(1687860 rows)</td>\n",
       "      <td>NaN</td>\n",
       "      <td>NaN</td>\n",
       "      <td>NaN</td>\n",
       "      <td>NaN</td>\n",
       "      <td>NaN</td>\n",
       "      <td>NaN</td>\n",
       "      <td>NaN</td>\n",
       "      <td>NaN</td>\n",
       "      <td>NaN</td>\n",
       "      <td>...</td>\n",
       "      <td>NaN</td>\n",
       "      <td>NaN</td>\n",
       "      <td>NaN</td>\n",
       "      <td>NaN</td>\n",
       "      <td>NaN</td>\n",
       "      <td>NaN</td>\n",
       "      <td>NaN</td>\n",
       "      <td>NaN</td>\n",
       "      <td>NaN</td>\n",
       "      <td>NaN</td>\n",
       "    </tr>\n",
       "  </tbody>\n",
       "</table>\n",
       "<p>1687861 rows × 23 columns</p>\n",
       "</div>"
      ],
      "text/plain": [
       "                    sku  national_inv  lead_time  in_transit_qty  \\\n",
       "0               1026827           0.0        NaN             0.0   \n",
       "1               1043384           2.0        9.0             0.0   \n",
       "2               1043696           2.0        NaN             0.0   \n",
       "3               1043852           7.0        8.0             0.0   \n",
       "4               1044048           8.0        NaN             0.0   \n",
       "...                 ...           ...        ...             ...   \n",
       "1687856         1373987          -1.0        NaN             0.0   \n",
       "1687857         1524346          -1.0        9.0             0.0   \n",
       "1687858         1439563          62.0        9.0            16.0   \n",
       "1687859         1502009          19.0        4.0             0.0   \n",
       "1687860  (1687860 rows)           NaN        NaN             NaN   \n",
       "\n",
       "         forecast_3_month  forecast_6_month  forecast_9_month  sales_1_month  \\\n",
       "0                     0.0               0.0               0.0            0.0   \n",
       "1                     0.0               0.0               0.0            0.0   \n",
       "2                     0.0               0.0               0.0            0.0   \n",
       "3                     0.0               0.0               0.0            0.0   \n",
       "4                     0.0               0.0               0.0            0.0   \n",
       "...                   ...               ...               ...            ...   \n",
       "1687856               5.0               7.0               9.0            1.0   \n",
       "1687857               7.0               9.0              11.0            0.0   \n",
       "1687858              39.0              87.0             126.0           35.0   \n",
       "1687859               0.0               0.0               0.0            2.0   \n",
       "1687860               NaN               NaN               NaN            NaN   \n",
       "\n",
       "         sales_3_month  sales_6_month  ...  pieces_past_due  perf_6_month_avg  \\\n",
       "0                  0.0            0.0  ...              0.0            -99.00   \n",
       "1                  0.0            0.0  ...              0.0              0.99   \n",
       "2                  0.0            0.0  ...              0.0            -99.00   \n",
       "3                  0.0            0.0  ...              0.0              0.10   \n",
       "4                  0.0            0.0  ...              0.0            -99.00   \n",
       "...                ...            ...  ...              ...               ...   \n",
       "1687856            3.0            3.0  ...              0.0            -99.00   \n",
       "1687857            8.0           11.0  ...              0.0              0.86   \n",
       "1687858           63.0          153.0  ...              0.0              0.86   \n",
       "1687859            7.0           12.0  ...              0.0              0.73   \n",
       "1687860            NaN            NaN  ...              NaN               NaN   \n",
       "\n",
       "        perf_12_month_avg  local_bo_qty  deck_risk  oe_constraint  ppap_risk  \\\n",
       "0                  -99.00           0.0         No             No         No   \n",
       "1                    0.99           0.0         No             No         No   \n",
       "2                  -99.00           0.0        Yes             No         No   \n",
       "3                    0.13           0.0         No             No         No   \n",
       "4                  -99.00           0.0        Yes             No         No   \n",
       "...                   ...           ...        ...            ...        ...   \n",
       "1687856            -99.00           1.0         No             No         No   \n",
       "1687857              0.84           1.0        Yes             No         No   \n",
       "1687858              0.84           6.0         No             No         No   \n",
       "1687859              0.78           1.0         No             No         No   \n",
       "1687860               NaN           NaN        NaN            NaN        NaN   \n",
       "\n",
       "        stop_auto_buy rev_stop went_on_backorder  \n",
       "0                 Yes       No                No  \n",
       "1                 Yes       No                No  \n",
       "2                 Yes       No                No  \n",
       "3                 Yes       No                No  \n",
       "4                 Yes       No                No  \n",
       "...               ...      ...               ...  \n",
       "1687856           Yes       No                No  \n",
       "1687857            No       No               Yes  \n",
       "1687858           Yes       No                No  \n",
       "1687859           Yes       No                No  \n",
       "1687860           NaN      NaN               NaN  \n",
       "\n",
       "[1687861 rows x 23 columns]"
      ]
     },
     "execution_count": 156,
     "metadata": {},
     "output_type": "execute_result"
    }
   ],
   "source": [
    "df = pd.read_csv('C:/Users/Sabbella/Desktop/University of Pittsburgh/Backorders - supply chain/Kaggle_Training_Dataset_v2.csv')\n",
    "df"
   ]
  },
  {
   "cell_type": "code",
   "execution_count": 157,
   "id": "5c38be57",
   "metadata": {},
   "outputs": [
    {
     "name": "stdout",
     "output_type": "stream",
     "text": [
      "df shape: (1687861, 23)\n"
     ]
    }
   ],
   "source": [
    "print(\"df shape:\",df.shape)"
   ]
  },
  {
   "cell_type": "code",
   "execution_count": 158,
   "id": "2bdc169b",
   "metadata": {},
   "outputs": [
    {
     "name": "stdout",
     "output_type": "stream",
     "text": [
      "<class 'pandas.core.frame.DataFrame'>\n",
      "RangeIndex: 1687861 entries, 0 to 1687860\n",
      "Data columns (total 23 columns):\n",
      " #   Column             Non-Null Count    Dtype  \n",
      "---  ------             --------------    -----  \n",
      " 0   sku                1687861 non-null  object \n",
      " 1   national_inv       1687860 non-null  float64\n",
      " 2   lead_time          1586967 non-null  float64\n",
      " 3   in_transit_qty     1687860 non-null  float64\n",
      " 4   forecast_3_month   1687860 non-null  float64\n",
      " 5   forecast_6_month   1687860 non-null  float64\n",
      " 6   forecast_9_month   1687860 non-null  float64\n",
      " 7   sales_1_month      1687860 non-null  float64\n",
      " 8   sales_3_month      1687860 non-null  float64\n",
      " 9   sales_6_month      1687860 non-null  float64\n",
      " 10  sales_9_month      1687860 non-null  float64\n",
      " 11  min_bank           1687860 non-null  float64\n",
      " 12  potential_issue    1687860 non-null  object \n",
      " 13  pieces_past_due    1687860 non-null  float64\n",
      " 14  perf_6_month_avg   1687860 non-null  float64\n",
      " 15  perf_12_month_avg  1687860 non-null  float64\n",
      " 16  local_bo_qty       1687860 non-null  float64\n",
      " 17  deck_risk          1687860 non-null  object \n",
      " 18  oe_constraint      1687860 non-null  object \n",
      " 19  ppap_risk          1687860 non-null  object \n",
      " 20  stop_auto_buy      1687860 non-null  object \n",
      " 21  rev_stop           1687860 non-null  object \n",
      " 22  went_on_backorder  1687860 non-null  object \n",
      "dtypes: float64(15), object(8)\n",
      "memory usage: 296.2+ MB\n"
     ]
    }
   ],
   "source": [
    "df.info()"
   ]
  },
  {
   "cell_type": "code",
   "execution_count": 159,
   "id": "e9a848b2",
   "metadata": {},
   "outputs": [],
   "source": [
    "new_column_names = ['product_id', 'current_inventory', 'transit_duration', 'transit_quantity',\n",
    "                   'forecast_sales_3_months', 'forecast_sales_6_months', 'forecast_sales_9_months',\n",
    "                   'prior_sales_1_month', 'prior_sales_3_month', 'prior_sales_6_month',\n",
    "                   'prior_sales_9_month', 'minimum_recommend_stock', 'source_has_issue',\n",
    "                   'source_overdue', 'source_performance_6_months', 'source_performance_12_months',\n",
    "                   'stock_overdue', 'deck_risk', 'oe_constraint', 'ppap_risk', 'stop_auto_buy',\n",
    "                   'rev_stop', 'went_on_backorder']\n",
    "\n",
    "df.columns = new_column_names"
   ]
  },
  {
   "cell_type": "code",
   "execution_count": 160,
   "id": "7be86e4d",
   "metadata": {},
   "outputs": [
    {
     "data": {
      "text/html": [
       "<div>\n",
       "<style scoped>\n",
       "    .dataframe tbody tr th:only-of-type {\n",
       "        vertical-align: middle;\n",
       "    }\n",
       "\n",
       "    .dataframe tbody tr th {\n",
       "        vertical-align: top;\n",
       "    }\n",
       "\n",
       "    .dataframe thead th {\n",
       "        text-align: right;\n",
       "    }\n",
       "</style>\n",
       "<table border=\"1\" class=\"dataframe\">\n",
       "  <thead>\n",
       "    <tr style=\"text-align: right;\">\n",
       "      <th></th>\n",
       "      <th>current_inventory</th>\n",
       "      <th>transit_duration</th>\n",
       "      <th>transit_quantity</th>\n",
       "      <th>forecast_sales_3_months</th>\n",
       "      <th>forecast_sales_6_months</th>\n",
       "      <th>forecast_sales_9_months</th>\n",
       "      <th>prior_sales_1_month</th>\n",
       "      <th>prior_sales_3_month</th>\n",
       "      <th>prior_sales_6_month</th>\n",
       "      <th>prior_sales_9_month</th>\n",
       "      <th>minimum_recommend_stock</th>\n",
       "      <th>source_overdue</th>\n",
       "      <th>source_performance_6_months</th>\n",
       "      <th>source_performance_12_months</th>\n",
       "      <th>stock_overdue</th>\n",
       "    </tr>\n",
       "  </thead>\n",
       "  <tbody>\n",
       "    <tr>\n",
       "      <th>count</th>\n",
       "      <td>1.687860e+06</td>\n",
       "      <td>1.586967e+06</td>\n",
       "      <td>1.687860e+06</td>\n",
       "      <td>1.687860e+06</td>\n",
       "      <td>1.687860e+06</td>\n",
       "      <td>1.687860e+06</td>\n",
       "      <td>1.687860e+06</td>\n",
       "      <td>1.687860e+06</td>\n",
       "      <td>1.687860e+06</td>\n",
       "      <td>1.687860e+06</td>\n",
       "      <td>1.687860e+06</td>\n",
       "      <td>1.687860e+06</td>\n",
       "      <td>1.687860e+06</td>\n",
       "      <td>1.687860e+06</td>\n",
       "      <td>1.687860e+06</td>\n",
       "    </tr>\n",
       "    <tr>\n",
       "      <th>mean</th>\n",
       "      <td>4.961118e+02</td>\n",
       "      <td>7.872267e+00</td>\n",
       "      <td>4.405202e+01</td>\n",
       "      <td>1.781193e+02</td>\n",
       "      <td>3.449867e+02</td>\n",
       "      <td>5.063644e+02</td>\n",
       "      <td>5.592607e+01</td>\n",
       "      <td>1.750259e+02</td>\n",
       "      <td>3.417288e+02</td>\n",
       "      <td>5.252697e+02</td>\n",
       "      <td>5.277230e+01</td>\n",
       "      <td>2.043724e+00</td>\n",
       "      <td>-6.872059e+00</td>\n",
       "      <td>-6.437947e+00</td>\n",
       "      <td>6.264507e-01</td>\n",
       "    </tr>\n",
       "    <tr>\n",
       "      <th>std</th>\n",
       "      <td>2.961523e+04</td>\n",
       "      <td>7.056024e+00</td>\n",
       "      <td>1.342742e+03</td>\n",
       "      <td>5.026553e+03</td>\n",
       "      <td>9.795152e+03</td>\n",
       "      <td>1.437892e+04</td>\n",
       "      <td>1.928196e+03</td>\n",
       "      <td>5.192378e+03</td>\n",
       "      <td>9.613167e+03</td>\n",
       "      <td>1.483861e+04</td>\n",
       "      <td>1.254983e+03</td>\n",
       "      <td>2.360165e+02</td>\n",
       "      <td>2.655636e+01</td>\n",
       "      <td>2.584333e+01</td>\n",
       "      <td>3.372224e+01</td>\n",
       "    </tr>\n",
       "    <tr>\n",
       "      <th>min</th>\n",
       "      <td>-2.725600e+04</td>\n",
       "      <td>0.000000e+00</td>\n",
       "      <td>0.000000e+00</td>\n",
       "      <td>0.000000e+00</td>\n",
       "      <td>0.000000e+00</td>\n",
       "      <td>0.000000e+00</td>\n",
       "      <td>0.000000e+00</td>\n",
       "      <td>0.000000e+00</td>\n",
       "      <td>0.000000e+00</td>\n",
       "      <td>0.000000e+00</td>\n",
       "      <td>0.000000e+00</td>\n",
       "      <td>0.000000e+00</td>\n",
       "      <td>-9.900000e+01</td>\n",
       "      <td>-9.900000e+01</td>\n",
       "      <td>0.000000e+00</td>\n",
       "    </tr>\n",
       "    <tr>\n",
       "      <th>25%</th>\n",
       "      <td>4.000000e+00</td>\n",
       "      <td>4.000000e+00</td>\n",
       "      <td>0.000000e+00</td>\n",
       "      <td>0.000000e+00</td>\n",
       "      <td>0.000000e+00</td>\n",
       "      <td>0.000000e+00</td>\n",
       "      <td>0.000000e+00</td>\n",
       "      <td>0.000000e+00</td>\n",
       "      <td>0.000000e+00</td>\n",
       "      <td>0.000000e+00</td>\n",
       "      <td>0.000000e+00</td>\n",
       "      <td>0.000000e+00</td>\n",
       "      <td>6.300000e-01</td>\n",
       "      <td>6.600000e-01</td>\n",
       "      <td>0.000000e+00</td>\n",
       "    </tr>\n",
       "    <tr>\n",
       "      <th>50%</th>\n",
       "      <td>1.500000e+01</td>\n",
       "      <td>8.000000e+00</td>\n",
       "      <td>0.000000e+00</td>\n",
       "      <td>0.000000e+00</td>\n",
       "      <td>0.000000e+00</td>\n",
       "      <td>0.000000e+00</td>\n",
       "      <td>0.000000e+00</td>\n",
       "      <td>1.000000e+00</td>\n",
       "      <td>2.000000e+00</td>\n",
       "      <td>4.000000e+00</td>\n",
       "      <td>0.000000e+00</td>\n",
       "      <td>0.000000e+00</td>\n",
       "      <td>8.200000e-01</td>\n",
       "      <td>8.100000e-01</td>\n",
       "      <td>0.000000e+00</td>\n",
       "    </tr>\n",
       "    <tr>\n",
       "      <th>75%</th>\n",
       "      <td>8.000000e+01</td>\n",
       "      <td>9.000000e+00</td>\n",
       "      <td>0.000000e+00</td>\n",
       "      <td>4.000000e+00</td>\n",
       "      <td>1.200000e+01</td>\n",
       "      <td>2.000000e+01</td>\n",
       "      <td>4.000000e+00</td>\n",
       "      <td>1.500000e+01</td>\n",
       "      <td>3.100000e+01</td>\n",
       "      <td>4.700000e+01</td>\n",
       "      <td>3.000000e+00</td>\n",
       "      <td>0.000000e+00</td>\n",
       "      <td>9.700000e-01</td>\n",
       "      <td>9.500000e-01</td>\n",
       "      <td>0.000000e+00</td>\n",
       "    </tr>\n",
       "    <tr>\n",
       "      <th>max</th>\n",
       "      <td>1.233440e+07</td>\n",
       "      <td>5.200000e+01</td>\n",
       "      <td>4.894080e+05</td>\n",
       "      <td>1.427612e+06</td>\n",
       "      <td>2.461360e+06</td>\n",
       "      <td>3.777304e+06</td>\n",
       "      <td>7.417740e+05</td>\n",
       "      <td>1.105478e+06</td>\n",
       "      <td>2.146625e+06</td>\n",
       "      <td>3.205172e+06</td>\n",
       "      <td>3.133190e+05</td>\n",
       "      <td>1.464960e+05</td>\n",
       "      <td>1.000000e+00</td>\n",
       "      <td>1.000000e+00</td>\n",
       "      <td>1.253000e+04</td>\n",
       "    </tr>\n",
       "  </tbody>\n",
       "</table>\n",
       "</div>"
      ],
      "text/plain": [
       "       current_inventory  transit_duration  transit_quantity  \\\n",
       "count       1.687860e+06      1.586967e+06      1.687860e+06   \n",
       "mean        4.961118e+02      7.872267e+00      4.405202e+01   \n",
       "std         2.961523e+04      7.056024e+00      1.342742e+03   \n",
       "min        -2.725600e+04      0.000000e+00      0.000000e+00   \n",
       "25%         4.000000e+00      4.000000e+00      0.000000e+00   \n",
       "50%         1.500000e+01      8.000000e+00      0.000000e+00   \n",
       "75%         8.000000e+01      9.000000e+00      0.000000e+00   \n",
       "max         1.233440e+07      5.200000e+01      4.894080e+05   \n",
       "\n",
       "       forecast_sales_3_months  forecast_sales_6_months  \\\n",
       "count             1.687860e+06             1.687860e+06   \n",
       "mean              1.781193e+02             3.449867e+02   \n",
       "std               5.026553e+03             9.795152e+03   \n",
       "min               0.000000e+00             0.000000e+00   \n",
       "25%               0.000000e+00             0.000000e+00   \n",
       "50%               0.000000e+00             0.000000e+00   \n",
       "75%               4.000000e+00             1.200000e+01   \n",
       "max               1.427612e+06             2.461360e+06   \n",
       "\n",
       "       forecast_sales_9_months  prior_sales_1_month  prior_sales_3_month  \\\n",
       "count             1.687860e+06         1.687860e+06         1.687860e+06   \n",
       "mean              5.063644e+02         5.592607e+01         1.750259e+02   \n",
       "std               1.437892e+04         1.928196e+03         5.192378e+03   \n",
       "min               0.000000e+00         0.000000e+00         0.000000e+00   \n",
       "25%               0.000000e+00         0.000000e+00         0.000000e+00   \n",
       "50%               0.000000e+00         0.000000e+00         1.000000e+00   \n",
       "75%               2.000000e+01         4.000000e+00         1.500000e+01   \n",
       "max               3.777304e+06         7.417740e+05         1.105478e+06   \n",
       "\n",
       "       prior_sales_6_month  prior_sales_9_month  minimum_recommend_stock  \\\n",
       "count         1.687860e+06         1.687860e+06             1.687860e+06   \n",
       "mean          3.417288e+02         5.252697e+02             5.277230e+01   \n",
       "std           9.613167e+03         1.483861e+04             1.254983e+03   \n",
       "min           0.000000e+00         0.000000e+00             0.000000e+00   \n",
       "25%           0.000000e+00         0.000000e+00             0.000000e+00   \n",
       "50%           2.000000e+00         4.000000e+00             0.000000e+00   \n",
       "75%           3.100000e+01         4.700000e+01             3.000000e+00   \n",
       "max           2.146625e+06         3.205172e+06             3.133190e+05   \n",
       "\n",
       "       source_overdue  source_performance_6_months  \\\n",
       "count    1.687860e+06                 1.687860e+06   \n",
       "mean     2.043724e+00                -6.872059e+00   \n",
       "std      2.360165e+02                 2.655636e+01   \n",
       "min      0.000000e+00                -9.900000e+01   \n",
       "25%      0.000000e+00                 6.300000e-01   \n",
       "50%      0.000000e+00                 8.200000e-01   \n",
       "75%      0.000000e+00                 9.700000e-01   \n",
       "max      1.464960e+05                 1.000000e+00   \n",
       "\n",
       "       source_performance_12_months  stock_overdue  \n",
       "count                  1.687860e+06   1.687860e+06  \n",
       "mean                  -6.437947e+00   6.264507e-01  \n",
       "std                    2.584333e+01   3.372224e+01  \n",
       "min                   -9.900000e+01   0.000000e+00  \n",
       "25%                    6.600000e-01   0.000000e+00  \n",
       "50%                    8.100000e-01   0.000000e+00  \n",
       "75%                    9.500000e-01   0.000000e+00  \n",
       "max                    1.000000e+00   1.253000e+04  "
      ]
     },
     "execution_count": 160,
     "metadata": {},
     "output_type": "execute_result"
    }
   ],
   "source": [
    "df.describe()"
   ]
  },
  {
   "cell_type": "code",
   "execution_count": 161,
   "id": "f1b4a962",
   "metadata": {},
   "outputs": [
    {
     "data": {
      "text/html": [
       "<div>\n",
       "<style scoped>\n",
       "    .dataframe tbody tr th:only-of-type {\n",
       "        vertical-align: middle;\n",
       "    }\n",
       "\n",
       "    .dataframe tbody tr th {\n",
       "        vertical-align: top;\n",
       "    }\n",
       "\n",
       "    .dataframe thead th {\n",
       "        text-align: right;\n",
       "    }\n",
       "</style>\n",
       "<table border=\"1\" class=\"dataframe\">\n",
       "  <thead>\n",
       "    <tr style=\"text-align: right;\">\n",
       "      <th></th>\n",
       "      <th>product_id</th>\n",
       "      <th>source_has_issue</th>\n",
       "      <th>deck_risk</th>\n",
       "      <th>oe_constraint</th>\n",
       "      <th>ppap_risk</th>\n",
       "      <th>stop_auto_buy</th>\n",
       "      <th>rev_stop</th>\n",
       "      <th>went_on_backorder</th>\n",
       "    </tr>\n",
       "  </thead>\n",
       "  <tbody>\n",
       "    <tr>\n",
       "      <th>count</th>\n",
       "      <td>1687861</td>\n",
       "      <td>1687860</td>\n",
       "      <td>1687860</td>\n",
       "      <td>1687860</td>\n",
       "      <td>1687860</td>\n",
       "      <td>1687860</td>\n",
       "      <td>1687860</td>\n",
       "      <td>1687860</td>\n",
       "    </tr>\n",
       "    <tr>\n",
       "      <th>unique</th>\n",
       "      <td>1687861</td>\n",
       "      <td>2</td>\n",
       "      <td>2</td>\n",
       "      <td>2</td>\n",
       "      <td>2</td>\n",
       "      <td>2</td>\n",
       "      <td>2</td>\n",
       "      <td>2</td>\n",
       "    </tr>\n",
       "    <tr>\n",
       "      <th>top</th>\n",
       "      <td>3273854</td>\n",
       "      <td>No</td>\n",
       "      <td>No</td>\n",
       "      <td>No</td>\n",
       "      <td>No</td>\n",
       "      <td>Yes</td>\n",
       "      <td>No</td>\n",
       "      <td>No</td>\n",
       "    </tr>\n",
       "    <tr>\n",
       "      <th>freq</th>\n",
       "      <td>1</td>\n",
       "      <td>1686953</td>\n",
       "      <td>1300377</td>\n",
       "      <td>1687615</td>\n",
       "      <td>1484026</td>\n",
       "      <td>1626774</td>\n",
       "      <td>1687129</td>\n",
       "      <td>1676567</td>\n",
       "    </tr>\n",
       "  </tbody>\n",
       "</table>\n",
       "</div>"
      ],
      "text/plain": [
       "       product_id source_has_issue deck_risk oe_constraint ppap_risk  \\\n",
       "count     1687861          1687860   1687860       1687860   1687860   \n",
       "unique    1687861                2         2             2         2   \n",
       "top       3273854               No        No            No        No   \n",
       "freq            1          1686953   1300377       1687615   1484026   \n",
       "\n",
       "       stop_auto_buy rev_stop went_on_backorder  \n",
       "count        1687860  1687860           1687860  \n",
       "unique             2        2                 2  \n",
       "top              Yes       No                No  \n",
       "freq         1626774  1687129           1676567  "
      ]
     },
     "execution_count": 161,
     "metadata": {},
     "output_type": "execute_result"
    }
   ],
   "source": [
    "df.describe(include = ['object'])\n",
    "# Good to see that there are only 2 unique values for all catogorical (object data type) columns."
   ]
  },
  {
   "cell_type": "code",
   "execution_count": 162,
   "id": "3d8aa52d",
   "metadata": {},
   "outputs": [
    {
     "data": {
      "text/plain": [
       "product_id                           0\n",
       "current_inventory                    1\n",
       "transit_duration                100894\n",
       "transit_quantity                     1\n",
       "forecast_sales_3_months              1\n",
       "forecast_sales_6_months              1\n",
       "forecast_sales_9_months              1\n",
       "prior_sales_1_month                  1\n",
       "prior_sales_3_month                  1\n",
       "prior_sales_6_month                  1\n",
       "prior_sales_9_month                  1\n",
       "minimum_recommend_stock              1\n",
       "source_has_issue                     1\n",
       "source_overdue                       1\n",
       "source_performance_6_months          1\n",
       "source_performance_12_months         1\n",
       "stock_overdue                        1\n",
       "deck_risk                            1\n",
       "oe_constraint                        1\n",
       "ppap_risk                            1\n",
       "stop_auto_buy                        1\n",
       "rev_stop                             1\n",
       "went_on_backorder                    1\n",
       "dtype: int64"
      ]
     },
     "execution_count": 162,
     "metadata": {},
     "output_type": "execute_result"
    }
   ],
   "source": [
    "df.isnull().sum()"
   ]
  },
  {
   "cell_type": "markdown",
   "id": "af546d2a",
   "metadata": {},
   "source": [
    "Most of the columns have just one entry as null. Quite possible that all these NaN belong to same row.\n",
    "If we remove this row it will also solve the mix datatypes issue which we saw during data load.\n",
    "\n",
    "There are nulls and lots of 0's in each column. During the EDA/Feature engineering step we can determine if we want to omit\n",
    "or keep this column. But for now we will look for an approach to fill these missing values"
   ]
  },
  {
   "cell_type": "code",
   "execution_count": 163,
   "id": "1dae5076",
   "metadata": {},
   "outputs": [
    {
     "data": {
      "text/html": [
       "<div>\n",
       "<style scoped>\n",
       "    .dataframe tbody tr th:only-of-type {\n",
       "        vertical-align: middle;\n",
       "    }\n",
       "\n",
       "    .dataframe tbody tr th {\n",
       "        vertical-align: top;\n",
       "    }\n",
       "\n",
       "    .dataframe thead th {\n",
       "        text-align: right;\n",
       "    }\n",
       "</style>\n",
       "<table border=\"1\" class=\"dataframe\">\n",
       "  <thead>\n",
       "    <tr style=\"text-align: right;\">\n",
       "      <th></th>\n",
       "      <th>product_id</th>\n",
       "      <th>current_inventory</th>\n",
       "      <th>transit_duration</th>\n",
       "      <th>transit_quantity</th>\n",
       "      <th>forecast_sales_3_months</th>\n",
       "      <th>forecast_sales_6_months</th>\n",
       "      <th>forecast_sales_9_months</th>\n",
       "      <th>prior_sales_1_month</th>\n",
       "      <th>prior_sales_3_month</th>\n",
       "      <th>prior_sales_6_month</th>\n",
       "      <th>...</th>\n",
       "      <th>source_overdue</th>\n",
       "      <th>source_performance_6_months</th>\n",
       "      <th>source_performance_12_months</th>\n",
       "      <th>stock_overdue</th>\n",
       "      <th>deck_risk</th>\n",
       "      <th>oe_constraint</th>\n",
       "      <th>ppap_risk</th>\n",
       "      <th>stop_auto_buy</th>\n",
       "      <th>rev_stop</th>\n",
       "      <th>went_on_backorder</th>\n",
       "    </tr>\n",
       "  </thead>\n",
       "  <tbody>\n",
       "    <tr>\n",
       "      <th>1687860</th>\n",
       "      <td>(1687860 rows)</td>\n",
       "      <td>NaN</td>\n",
       "      <td>NaN</td>\n",
       "      <td>NaN</td>\n",
       "      <td>NaN</td>\n",
       "      <td>NaN</td>\n",
       "      <td>NaN</td>\n",
       "      <td>NaN</td>\n",
       "      <td>NaN</td>\n",
       "      <td>NaN</td>\n",
       "      <td>...</td>\n",
       "      <td>NaN</td>\n",
       "      <td>NaN</td>\n",
       "      <td>NaN</td>\n",
       "      <td>NaN</td>\n",
       "      <td>NaN</td>\n",
       "      <td>NaN</td>\n",
       "      <td>NaN</td>\n",
       "      <td>NaN</td>\n",
       "      <td>NaN</td>\n",
       "      <td>NaN</td>\n",
       "    </tr>\n",
       "  </tbody>\n",
       "</table>\n",
       "<p>1 rows × 23 columns</p>\n",
       "</div>"
      ],
      "text/plain": [
       "             product_id  current_inventory  transit_duration  \\\n",
       "1687860  (1687860 rows)                NaN               NaN   \n",
       "\n",
       "         transit_quantity  forecast_sales_3_months  forecast_sales_6_months  \\\n",
       "1687860               NaN                      NaN                      NaN   \n",
       "\n",
       "         forecast_sales_9_months  prior_sales_1_month  prior_sales_3_month  \\\n",
       "1687860                      NaN                  NaN                  NaN   \n",
       "\n",
       "         prior_sales_6_month  ...  source_overdue  \\\n",
       "1687860                  NaN  ...             NaN   \n",
       "\n",
       "         source_performance_6_months source_performance_12_months  \\\n",
       "1687860                          NaN                          NaN   \n",
       "\n",
       "         stock_overdue  deck_risk  oe_constraint  ppap_risk stop_auto_buy  \\\n",
       "1687860            NaN        NaN            NaN        NaN           NaN   \n",
       "\n",
       "        rev_stop went_on_backorder  \n",
       "1687860      NaN               NaN  \n",
       "\n",
       "[1 rows x 23 columns]"
      ]
     },
     "execution_count": 163,
     "metadata": {},
     "output_type": "execute_result"
    }
   ],
   "source": [
    "df[df.current_inventory.isnull()]"
   ]
  },
  {
   "cell_type": "code",
   "execution_count": 164,
   "id": "6c044bcc",
   "metadata": {},
   "outputs": [],
   "source": [
    "df.drop([1687860], inplace = True)"
   ]
  },
  {
   "cell_type": "code",
   "execution_count": 165,
   "id": "62d94cce",
   "metadata": {},
   "outputs": [
    {
     "data": {
      "text/plain": [
       "product_id                           0\n",
       "current_inventory                    0\n",
       "transit_duration                100893\n",
       "transit_quantity                     0\n",
       "forecast_sales_3_months              0\n",
       "forecast_sales_6_months              0\n",
       "forecast_sales_9_months              0\n",
       "prior_sales_1_month                  0\n",
       "prior_sales_3_month                  0\n",
       "prior_sales_6_month                  0\n",
       "prior_sales_9_month                  0\n",
       "minimum_recommend_stock              0\n",
       "source_has_issue                     0\n",
       "source_overdue                       0\n",
       "source_performance_6_months          0\n",
       "source_performance_12_months         0\n",
       "stock_overdue                        0\n",
       "deck_risk                            0\n",
       "oe_constraint                        0\n",
       "ppap_risk                            0\n",
       "stop_auto_buy                        0\n",
       "rev_stop                             0\n",
       "went_on_backorder                    0\n",
       "dtype: int64"
      ]
     },
     "execution_count": 165,
     "metadata": {},
     "output_type": "execute_result"
    }
   ],
   "source": [
    "# There no longer is any column with missing data except that of \"transit_duration\"\n",
    "df.isnull().sum()"
   ]
  },
  {
   "cell_type": "code",
   "execution_count": 166,
   "id": "88d1ed78",
   "metadata": {},
   "outputs": [],
   "source": [
    "df.product_id = df.product_id.astype(int)"
   ]
  },
  {
   "cell_type": "code",
   "execution_count": 167,
   "id": "1645560d",
   "metadata": {},
   "outputs": [
    {
     "name": "stdout",
     "output_type": "stream",
     "text": [
      "<class 'pandas.core.frame.DataFrame'>\n",
      "Int64Index: 1687860 entries, 0 to 1687859\n",
      "Data columns (total 23 columns):\n",
      " #   Column                        Non-Null Count    Dtype  \n",
      "---  ------                        --------------    -----  \n",
      " 0   product_id                    1687860 non-null  int32  \n",
      " 1   current_inventory             1687860 non-null  float64\n",
      " 2   transit_duration              1586967 non-null  float64\n",
      " 3   transit_quantity              1687860 non-null  float64\n",
      " 4   forecast_sales_3_months       1687860 non-null  float64\n",
      " 5   forecast_sales_6_months       1687860 non-null  float64\n",
      " 6   forecast_sales_9_months       1687860 non-null  float64\n",
      " 7   prior_sales_1_month           1687860 non-null  float64\n",
      " 8   prior_sales_3_month           1687860 non-null  float64\n",
      " 9   prior_sales_6_month           1687860 non-null  float64\n",
      " 10  prior_sales_9_month           1687860 non-null  float64\n",
      " 11  minimum_recommend_stock       1687860 non-null  float64\n",
      " 12  source_has_issue              1687860 non-null  object \n",
      " 13  source_overdue                1687860 non-null  float64\n",
      " 14  source_performance_6_months   1687860 non-null  float64\n",
      " 15  source_performance_12_months  1687860 non-null  float64\n",
      " 16  stock_overdue                 1687860 non-null  float64\n",
      " 17  deck_risk                     1687860 non-null  object \n",
      " 18  oe_constraint                 1687860 non-null  object \n",
      " 19  ppap_risk                     1687860 non-null  object \n",
      " 20  stop_auto_buy                 1687860 non-null  object \n",
      " 21  rev_stop                      1687860 non-null  object \n",
      " 22  went_on_backorder             1687860 non-null  object \n",
      "dtypes: float64(15), int32(1), object(7)\n",
      "memory usage: 302.6+ MB\n"
     ]
    }
   ],
   "source": [
    "df.info()"
   ]
  },
  {
   "cell_type": "markdown",
   "id": "b1d8af35",
   "metadata": {},
   "source": [
    "# Handling NAN and Missing Values"
   ]
  },
  {
   "cell_type": "markdown",
   "id": "111e6960",
   "metadata": {},
   "source": [
    "The following are the observations made in the dataset:\n",
    "\n",
    "    1. \"transit_duration\" has 100893 null values which is 6% of the total data.\n",
    "    2. Missing values in columns source_performance_6_months and source_performance_12_months are represented with '-99'.\n",
    "    3. \"source_performance_6_months\" has 129478 null values which is 8% of the total data.\n",
    "    4. \"source_performance_12_months\" has 122050 null values which is 8% of the total data.\n",
    "    5. Heatmap shows a strong coorelation (0.97) between \"source_performance_6_months\" and \"source_performance_12_months\"."
   ]
  },
  {
   "cell_type": "code",
   "execution_count": 64,
   "id": "371ec0c6",
   "metadata": {},
   "outputs": [
    {
     "data": {
      "text/plain": [
       "5.9775692296754475"
      ]
     },
     "execution_count": 64,
     "metadata": {},
     "output_type": "execute_result"
    }
   ],
   "source": [
    "# Percentage of \"Transit duration\" data missing = 6%\n",
    "\n",
    "100893*100/len(df.index)"
   ]
  },
  {
   "cell_type": "code",
   "execution_count": 68,
   "id": "0d066b41",
   "metadata": {},
   "outputs": [
    {
     "name": "stdout",
     "output_type": "stream",
     "text": [
      "129478\n",
      "7.671133861813184\n"
     ]
    }
   ],
   "source": [
    "# Total missing values of \"source_performance_6_months\"\n",
    "\n",
    "print(len(df[df['source_performance_6_months']==-99]))\n",
    "\n",
    "# Percent of missing values\n",
    "\n",
    "print(len(df[df['source_performance_6_months']==-99])*100/len(df.index))"
   ]
  },
  {
   "cell_type": "code",
   "execution_count": 71,
   "id": "95e87e38",
   "metadata": {},
   "outputs": [
    {
     "name": "stdout",
     "output_type": "stream",
     "text": [
      "122050\n",
      "7.231049968599291\n"
     ]
    }
   ],
   "source": [
    "# Total missing values of \"source_performance_12_months\"\n",
    "\n",
    "print(len(df[df['source_performance_12_months']==-99]))\n",
    "\n",
    "# Percent of missing values\n",
    "\n",
    "print(len(df[df['source_performance_12_months']==-99])*100/len(df.index))"
   ]
  },
  {
   "cell_type": "code",
   "execution_count": 172,
   "id": "436714be",
   "metadata": {},
   "outputs": [
    {
     "data": {
      "image/png": "[encoded data removed]",
      "text/plain": [
       "<Figure size 720x720 with 2 Axes>"
      ]
     },
     "metadata": {
      "needs_background": "light"
     },
     "output_type": "display_data"
    }
   ],
   "source": [
    "#finding the correlations\n",
    "fig = plt.subplots(figsize=(10, 10))\n",
    "col_corr = df.corr()\n",
    "ax = sns.heatmap(col_corr, annot = True,cmap='viridis')\n",
    "plt.show('Heatmap of Correlation Matrix')\n",
    "\n",
    "ax.figure.savefig('corr.png', dpi=500,bbox_inches='tight')"
   ]
  },
  {
   "cell_type": "code",
   "execution_count": null,
   "id": "7715dd04",
   "metadata": {},
   "outputs": [],
   "source": []
  },
  {
   "cell_type": "code",
   "execution_count": 170,
   "id": "2929028f",
   "metadata": {},
   "outputs": [
    {
     "name": "stderr",
     "output_type": "stream",
     "text": [
      "C:\\Users\\sabbe\\anaconda3\\lib\\site-packages\\seaborn\\_decorators.py:36: FutureWarning: Pass the following variable as a keyword arg: x. From version 0.12, the only valid positional argument will be `data`, and passing other arguments without an explicit keyword will result in an error or misinterpretation.\n",
      "  warnings.warn(\n"
     ]
    },
    {
     "data": {
      "text/plain": [
       "[Text(0.5, 1.0, 'Transit Duration Range and Distribution')]"
      ]
     },
     "execution_count": 170,
     "metadata": {},
     "output_type": "execute_result"
    },
    {
     "data": {
      "image/png": "[encoded data removed]",
      "text/plain": [
       "<Figure size 432x288 with 1 Axes>"
      ]
     },
     "metadata": {
      "needs_background": "light"
     },
     "output_type": "display_data"
    }
   ],
   "source": [
    "#View the range and distribution through the violinplots\n",
    "sns.violinplot(df.transit_duration).set(title='Transit Duration Range and Distribution')"
   ]
  },
  {
   "cell_type": "code",
   "execution_count": 75,
   "id": "aad6b76f",
   "metadata": {},
   "outputs": [
    {
     "data": {
      "text/plain": [
       "0"
      ]
     },
     "execution_count": 75,
     "metadata": {},
     "output_type": "execute_result"
    }
   ],
   "source": [
    "#Fill the null values with median\n",
    "df['transit_duration'] = df['transit_duration'].fillna(df['transit_duration'].median())\n",
    "df['transit_duration'].isnull().sum()"
   ]
  },
  {
   "cell_type": "code",
   "execution_count": 77,
   "id": "802f2319",
   "metadata": {},
   "outputs": [
    {
     "data": {
      "text/plain": [
       "0"
      ]
     },
     "execution_count": 77,
     "metadata": {},
     "output_type": "execute_result"
    }
   ],
   "source": [
    "#checking for the duplicates in the product_id field\n",
    "df['product_id'].duplicated().sum()"
   ]
  },
  {
   "cell_type": "markdown",
   "id": "e6e79d50",
   "metadata": {},
   "source": [
    "Given that we do have cells with -99 in the sourec_performance_12_months and source_performance_6_months of  masterData, \n",
    "we need to comeup with a feature engineering technique appropriately to replace these values with most desirable one's. \n",
    "Heat map strongly indicates that there is strong relationship correlationship between these two. Hence, we can use the linear\n",
    "regression to estimate the missing values. However, there are quiet a lot missing values, it is strongly encouraged to\n",
    "replace the missing values with the alternate approach. In this case, we are trying to replace the missing values with the\n",
    "median of their respective fields"
   ]
  },
  {
   "cell_type": "code",
   "execution_count": 79,
   "id": "aee64c92",
   "metadata": {},
   "outputs": [],
   "source": [
    "#Replace -99 with NAN in the source_performance_12_months and source_performance_6_months of df set\n",
    "df['source_performance_12_months'].replace({-99.00:np.nan}, inplace = True)\n",
    "df['source_performance_6_months'].replace({-99.00:np.nan}, inplace = True)"
   ]
  },
  {
   "cell_type": "code",
   "execution_count": 81,
   "id": "ff40fda1",
   "metadata": {},
   "outputs": [
    {
     "data": {
      "text/plain": [
       "0"
      ]
     },
     "execution_count": 81,
     "metadata": {},
     "output_type": "execute_result"
    }
   ],
   "source": [
    "(df['source_performance_12_months']==-99.00).sum()"
   ]
  },
  {
   "cell_type": "code",
   "execution_count": 82,
   "id": "e85a9239",
   "metadata": {},
   "outputs": [
    {
     "data": {
      "text/plain": [
       "0"
      ]
     },
     "execution_count": 82,
     "metadata": {},
     "output_type": "execute_result"
    }
   ],
   "source": [
    "(df['source_performance_6_months']==-99.00).sum()"
   ]
  },
  {
   "cell_type": "code",
   "execution_count": 84,
   "id": "2a42e6a2",
   "metadata": {},
   "outputs": [],
   "source": [
    "#Linear regression for fillin the NAN's\n",
    "x_12months = df[df.source_performance_6_months.notnull() \n",
    "                        & df.source_performance_12_months.notnull()][['source_performance_12_months']]\n",
    "y_6months = df[df.source_performance_6_months.notnull() \n",
    "                       & df.source_performance_12_months.notnull()][['source_performance_6_months']]"
   ]
  },
  {
   "cell_type": "code",
   "execution_count": 85,
   "id": "f06a08c4",
   "metadata": {},
   "outputs": [
    {
     "data": {
      "text/plain": [
       "LinearRegression()"
      ]
     },
     "execution_count": 85,
     "metadata": {},
     "output_type": "execute_result"
    }
   ],
   "source": [
    "linReg = LinearRegression()\n",
    "linReg.fit(x_12months,y_6months)"
   ]
  },
  {
   "cell_type": "code",
   "execution_count": 86,
   "id": "f41787e1",
   "metadata": {},
   "outputs": [],
   "source": [
    "#Predicted NAN values\n",
    "test_12months = df[df['source_performance_6_months'].isnull() \n",
    "                           & df['source_performance_12_months'].notnull()][['source_performance_12_months']]\n",
    "pred_6months = linReg.predict(test_12months)\n"
   ]
  },
  {
   "cell_type": "code",
   "execution_count": 87,
   "id": "ecd81b03",
   "metadata": {},
   "outputs": [],
   "source": [
    "#Fill the null values\n",
    "reg_6_months_list = list(zip(test_12months.index, pred_6months)) "
   ]
  },
  {
   "cell_type": "code",
   "execution_count": 90,
   "id": "125d5145",
   "metadata": {},
   "outputs": [],
   "source": [
    "for val in reg_6_months_list:\n",
    "      #print(val[0], val[1])\n",
    "      #df.set_value(index=val[0], value =val[1], col='source_performance_6_months')\n",
    "      df.loc[val[0], 'source_performance_6_months'] = float(str(val[1])[1:-1])\n"
   ]
  },
  {
   "cell_type": "code",
   "execution_count": 92,
   "id": "34ade8c4",
   "metadata": {},
   "outputs": [
    {
     "data": {
      "text/plain": [
       "122050"
      ]
     },
     "execution_count": 92,
     "metadata": {},
     "output_type": "execute_result"
    }
   ],
   "source": [
    "#check if the value is inserted\n",
    "df.source_performance_6_months.isnull().sum()"
   ]
  },
  {
   "cell_type": "code",
   "execution_count": 93,
   "id": "b26fc2f7",
   "metadata": {},
   "outputs": [
    {
     "name": "stderr",
     "output_type": "stream",
     "text": [
      "C:\\Users\\sabbe\\anaconda3\\lib\\site-packages\\seaborn\\_decorators.py:36: FutureWarning: Pass the following variable as a keyword arg: x. From version 0.12, the only valid positional argument will be `data`, and passing other arguments without an explicit keyword will result in an error or misinterpretation.\n",
      "  warnings.warn(\n"
     ]
    },
    {
     "data": {
      "text/plain": [
       "[Text(0.5, 1.0, 'Source Performance Range and Distribution')]"
      ]
     },
     "execution_count": 93,
     "metadata": {},
     "output_type": "execute_result"
    },
    {
     "data": {
      "image/png": "[encoded data removed]",
      "text/plain": [
       "<Figure size 432x288 with 1 Axes>"
      ]
     },
     "metadata": {
      "needs_background": "light"
     },
     "output_type": "display_data"
    }
   ],
   "source": [
    "#View range and distribution through violin chart\n",
    "sns.violinplot(df.source_performance_6_months).set(title='Source Performance Range and Distribution')\n",
    "#sns.plt.title('Transit Duration Range and Distribution')"
   ]
  },
  {
   "cell_type": "code",
   "execution_count": 94,
   "id": "d4c45821",
   "metadata": {},
   "outputs": [],
   "source": [
    "#Imputing the missing values in the source_performance_6_months field with the median values\n",
    "df.source_performance_6_months.fillna(df.source_performance_6_months.median(), inplace = True)"
   ]
  },
  {
   "cell_type": "code",
   "execution_count": 96,
   "id": "11ad65d1",
   "metadata": {},
   "outputs": [
    {
     "data": {
      "text/plain": [
       "0"
      ]
     },
     "execution_count": 96,
     "metadata": {},
     "output_type": "execute_result"
    }
   ],
   "source": [
    "df.source_performance_6_months.isnull().sum()"
   ]
  },
  {
   "cell_type": "code",
   "execution_count": 98,
   "id": "dd70c8ac",
   "metadata": {},
   "outputs": [
    {
     "name": "stderr",
     "output_type": "stream",
     "text": [
      "C:\\Users\\sabbe\\anaconda3\\lib\\site-packages\\seaborn\\_decorators.py:36: FutureWarning: Pass the following variable as a keyword arg: x. From version 0.12, the only valid positional argument will be `data`, and passing other arguments without an explicit keyword will result in an error or misinterpretation.\n",
      "  warnings.warn(\n"
     ]
    },
    {
     "data": {
      "text/plain": [
       "[Text(0.5, 1.0, 'Source Performance of 12 months Range and Distribution')]"
      ]
     },
     "execution_count": 98,
     "metadata": {},
     "output_type": "execute_result"
    },
    {
     "data": {
      "image/png": "[encoded data removed]",
      "text/plain": [
       "<Figure size 432x288 with 1 Axes>"
      ]
     },
     "metadata": {
      "needs_background": "light"
     },
     "output_type": "display_data"
    }
   ],
   "source": [
    "#View range and distribution of the source_performance_12_months\n",
    "sns.violinplot(df.source_performance_12_months).set(title='Source Performance of 12 months Range and Distribution')"
   ]
  },
  {
   "cell_type": "code",
   "execution_count": 99,
   "id": "35d6e6d4",
   "metadata": {},
   "outputs": [],
   "source": [
    "#imputing the null values with the median values\n",
    "df.source_performance_12_months.fillna(df.source_performance_12_months.median(), inplace = True)"
   ]
  },
  {
   "cell_type": "code",
   "execution_count": 101,
   "id": "692558f2",
   "metadata": {},
   "outputs": [
    {
     "data": {
      "text/plain": [
       "0"
      ]
     },
     "execution_count": 101,
     "metadata": {},
     "output_type": "execute_result"
    }
   ],
   "source": [
    "df.source_performance_12_months.isnull().sum()"
   ]
  },
  {
   "cell_type": "markdown",
   "id": "9dd0ab45",
   "metadata": {},
   "source": [
    "# Handling the Repetitive values"
   ]
  },
  {
   "cell_type": "markdown",
   "id": "e04b0060",
   "metadata": {},
   "source": [
    "It can be seen that there are 0's in our masterData.Lets find out the percentage of repeatitions of 0's. If any of the \n",
    "columns has more than the 60%, we can safely drop that column. This kind of data trend canbe viewed on violin plot"
   ]
  },
  {
   "cell_type": "code",
   "execution_count": 110,
   "id": "d026c287",
   "metadata": {},
   "outputs": [
    {
     "name": "stderr",
     "output_type": "stream",
     "text": [
      "C:\\Users\\sabbe\\anaconda3\\lib\\site-packages\\seaborn\\_decorators.py:36: FutureWarning: Pass the following variable as a keyword arg: x. From version 0.12, the only valid positional argument will be `data`, and passing other arguments without an explicit keyword will result in an error or misinterpretation.\n",
      "  warnings.warn(\n"
     ]
    },
    {
     "data": {
      "text/plain": [
       "[Text(0.5, 1.0, 'forecast sales of 3 months')]"
      ]
     },
     "execution_count": 110,
     "metadata": {},
     "output_type": "execute_result"
    },
    {
     "data": {
      "image/png": "[encoded data removed]",
      "text/plain": [
       "<Figure size 1152x288 with 1 Axes>"
      ]
     },
     "metadata": {
      "needs_background": "light"
     },
     "output_type": "display_data"
    }
   ],
   "source": [
    "plt.figure(figsize=(16,4))\n",
    "sns.violinplot(df.forecast_sales_3_months).set(title='forecast sales of 3 months')\n"
   ]
  },
  {
   "cell_type": "code",
   "execution_count": 112,
   "id": "80f97238",
   "metadata": {},
   "outputs": [
    {
     "name": "stderr",
     "output_type": "stream",
     "text": [
      "C:\\Users\\sabbe\\anaconda3\\lib\\site-packages\\seaborn\\_decorators.py:36: FutureWarning: Pass the following variable as a keyword arg: x. From version 0.12, the only valid positional argument will be `data`, and passing other arguments without an explicit keyword will result in an error or misinterpretation.\n",
      "  warnings.warn(\n"
     ]
    },
    {
     "data": {
      "text/plain": [
       "[Text(0.5, 1.0, 'forecast sales of 6 months')]"
      ]
     },
     "execution_count": 112,
     "metadata": {},
     "output_type": "execute_result"
    },
    {
     "data": {
      "image/png": "[encoded data removed]",
      "text/plain": [
       "<Figure size 1152x288 with 1 Axes>"
      ]
     },
     "metadata": {
      "needs_background": "light"
     },
     "output_type": "display_data"
    }
   ],
   "source": [
    "plt.figure(figsize=(16,4))\n",
    "sns.violinplot(df.forecast_sales_6_months).set(title='forecast sales of 6 months')"
   ]
  },
  {
   "cell_type": "code",
   "execution_count": 114,
   "id": "be4f1593",
   "metadata": {},
   "outputs": [],
   "source": [
    "#Calculating the percentage of repeatitions of 0's in each column\n",
    "perct_0 = {column: '%2.2f' %(((df[column] == 0).sum()/df.shape[0])*100)+'%' for column in df.columns\n",
    "                             if df[column].dtype == np.float64}"
   ]
  },
  {
   "cell_type": "code",
   "execution_count": 115,
   "id": "9da6d299",
   "metadata": {},
   "outputs": [
    {
     "data": {
      "text/plain": [
       "{'current_inventory': '6.42%',\n",
       " 'transit_duration': '0.62%',\n",
       " 'transit_quantity': '79.67%',\n",
       " 'forecast_sales_3_months': '69.78%',\n",
       " 'forecast_sales_6_months': '64.23%',\n",
       " 'forecast_sales_9_months': '61.22%',\n",
       " 'prior_sales_1_month': '56.87%',\n",
       " 'prior_sales_3_month': '44.98%',\n",
       " 'prior_sales_6_month': '38.33%',\n",
       " 'prior_sales_9_month': '34.72%',\n",
       " 'minimum_recommend_stock': '51.68%',\n",
       " 'source_overdue': '98.50%',\n",
       " 'source_performance_6_months': '2.31%',\n",
       " 'source_performance_12_months': '1.95%',\n",
       " 'stock_overdue': '98.62%'}"
      ]
     },
     "execution_count": 115,
     "metadata": {},
     "output_type": "execute_result"
    }
   ],
   "source": [
    "perct_0"
   ]
  },
  {
   "cell_type": "code",
   "execution_count": 117,
   "id": "caef3c48",
   "metadata": {},
   "outputs": [],
   "source": [
    "#Dropping the columns with the percentage of 0's more than 60%\n",
    "df = df.drop(['transit_quantity', 'forecast_sales_3_months', 'forecast_sales_6_months',\n",
    "                             'forecast_sales_9_months', 'source_overdue', 'stock_overdue'], axis = 1)"
   ]
  },
  {
   "cell_type": "code",
   "execution_count": 119,
   "id": "7d93b525",
   "metadata": {},
   "outputs": [
    {
     "data": {
      "text/plain": [
       "(1687860, 17)"
      ]
     },
     "execution_count": 119,
     "metadata": {},
     "output_type": "execute_result"
    }
   ],
   "source": [
    "df.shape"
   ]
  },
  {
   "cell_type": "markdown",
   "id": "2179780f",
   "metadata": {},
   "source": [
    "# Handling the outliers"
   ]
  },
  {
   "cell_type": "code",
   "execution_count": 121,
   "id": "f5e5f33a",
   "metadata": {},
   "outputs": [
    {
     "name": "stderr",
     "output_type": "stream",
     "text": [
      "C:\\Users\\sabbe\\anaconda3\\lib\\site-packages\\seaborn\\_decorators.py:36: FutureWarning: Pass the following variable as a keyword arg: x. From version 0.12, the only valid positional argument will be `data`, and passing other arguments without an explicit keyword will result in an error or misinterpretation.\n",
      "  warnings.warn(\n",
      "C:\\Users\\sabbe\\anaconda3\\lib\\site-packages\\seaborn\\_decorators.py:36: FutureWarning: Pass the following variable as a keyword arg: x. From version 0.12, the only valid positional argument will be `data`, and passing other arguments without an explicit keyword will result in an error or misinterpretation.\n",
      "  warnings.warn(\n",
      "C:\\Users\\sabbe\\anaconda3\\lib\\site-packages\\seaborn\\_decorators.py:36: FutureWarning: Pass the following variable as a keyword arg: x. From version 0.12, the only valid positional argument will be `data`, and passing other arguments without an explicit keyword will result in an error or misinterpretation.\n",
      "  warnings.warn(\n",
      "C:\\Users\\sabbe\\anaconda3\\lib\\site-packages\\seaborn\\_decorators.py:36: FutureWarning: Pass the following variable as a keyword arg: x. From version 0.12, the only valid positional argument will be `data`, and passing other arguments without an explicit keyword will result in an error or misinterpretation.\n",
      "  warnings.warn(\n",
      "C:\\Users\\sabbe\\anaconda3\\lib\\site-packages\\seaborn\\_decorators.py:36: FutureWarning: Pass the following variable as a keyword arg: x. From version 0.12, the only valid positional argument will be `data`, and passing other arguments without an explicit keyword will result in an error or misinterpretation.\n",
      "  warnings.warn(\n",
      "C:\\Users\\sabbe\\anaconda3\\lib\\site-packages\\seaborn\\_decorators.py:36: FutureWarning: Pass the following variable as a keyword arg: x. From version 0.12, the only valid positional argument will be `data`, and passing other arguments without an explicit keyword will result in an error or misinterpretation.\n",
      "  warnings.warn(\n",
      "C:\\Users\\sabbe\\anaconda3\\lib\\site-packages\\seaborn\\_decorators.py:36: FutureWarning: Pass the following variable as a keyword arg: x. From version 0.12, the only valid positional argument will be `data`, and passing other arguments without an explicit keyword will result in an error or misinterpretation.\n",
      "  warnings.warn(\n",
      "C:\\Users\\sabbe\\anaconda3\\lib\\site-packages\\seaborn\\_decorators.py:36: FutureWarning: Pass the following variable as a keyword arg: x. From version 0.12, the only valid positional argument will be `data`, and passing other arguments without an explicit keyword will result in an error or misinterpretation.\n",
      "  warnings.warn(\n",
      "C:\\Users\\sabbe\\anaconda3\\lib\\site-packages\\seaborn\\_decorators.py:36: FutureWarning: Pass the following variable as a keyword arg: x. From version 0.12, the only valid positional argument will be `data`, and passing other arguments without an explicit keyword will result in an error or misinterpretation.\n",
      "  warnings.warn(\n"
     ]
    },
    {
     "data": {
      "text/plain": [
       "<AxesSubplot:xlabel='source_performance_12_months'>"
      ]
     },
     "execution_count": 121,
     "metadata": {},
     "output_type": "execute_result"
    },
    {
     "data": {
      "image/png": "[encoded data removed]",
      "text/plain": [
       "<Figure size 1080x1080 with 9 Axes>"
      ]
     },
     "metadata": {
      "needs_background": "light"
     },
     "output_type": "display_data"
    }
   ],
   "source": [
    "nrows = 3\n",
    "ncols = 3\n",
    "fig, ax1 = plt.subplots(nrows, ncols, figsize = (15, 15))\n",
    "sns.boxplot(df.current_inventory, ax = ax1[0,0])\n",
    "sns.boxplot(df.transit_duration, ax = ax1[0,1])\n",
    "sns.boxplot(df.prior_sales_1_month, ax = ax1[0,2])\n",
    "sns.boxplot(df.prior_sales_3_month, ax = ax1[1,0])\n",
    "sns.boxplot(df.prior_sales_6_month, ax = ax1[1,1])\n",
    "sns.boxplot(df.prior_sales_9_month, ax = ax1[1,2])\n",
    "sns.boxplot(df.minimum_recommend_stock, ax = ax1[2,0])\n",
    "sns.boxplot(df.source_performance_6_months, ax = ax1[2,1])\n",
    "sns.boxplot(df.source_performance_12_months, ax = ax1[2,2])"
   ]
  },
  {
   "cell_type": "code",
   "execution_count": 122,
   "id": "e97caece",
   "metadata": {},
   "outputs": [],
   "source": [
    "def get_outlier_boundaries(column):\n",
    "    q75, q25 =  np.percentile(column, [75, 25])\n",
    "    iqr = q75 - q25\n",
    "    lower = q25 - 1.5*iqr\n",
    "    upper = q75 + 1.5*iqr\n",
    "    return lower,upper"
   ]
  },
  {
   "cell_type": "code",
   "execution_count": 124,
   "id": "161e9542",
   "metadata": {},
   "outputs": [
    {
     "name": "stdout",
     "output_type": "stream",
     "text": [
      "14.0 -2.0\n"
     ]
    },
    {
     "data": {
      "text/plain": [
       "No     47993\n",
       "Yes      105\n",
       "Name: went_on_backorder, dtype: int64"
      ]
     },
     "execution_count": 124,
     "metadata": {},
     "output_type": "execute_result"
    }
   ],
   "source": [
    "transit_duration_upper = get_outlier_boundaries(df.transit_duration)[1]\n",
    "transit_duration_lower = get_outlier_boundaries(df.transit_duration)[0]\n",
    "print(transit_duration_upper, transit_duration_lower)\n",
    "outlier_transit_duration = df[df.transit_duration > transit_duration_upper]\n",
    "#print(outlier_transit_duration.shape)\n",
    "outlier_transit_duration.went_on_backorder.value_counts()"
   ]
  },
  {
   "cell_type": "code",
   "execution_count": 125,
   "id": "13d06b61",
   "metadata": {},
   "outputs": [
    {
     "name": "stderr",
     "output_type": "stream",
     "text": [
      "C:\\Users\\sabbe\\anaconda3\\lib\\site-packages\\seaborn\\_decorators.py:36: FutureWarning: Pass the following variable as a keyword arg: x. From version 0.12, the only valid positional argument will be `data`, and passing other arguments without an explicit keyword will result in an error or misinterpretation.\n",
      "  warnings.warn(\n"
     ]
    },
    {
     "data": {
      "image/png": "[encoded data removed]",
      "text/plain": [
       "<Figure size 432x288 with 1 Axes>"
      ]
     },
     "metadata": {
      "needs_background": "light"
     },
     "output_type": "display_data"
    }
   ],
   "source": [
    "df = df.drop(outlier_transit_duration.index)\n",
    "cleaned_ = sns.boxplot(df.transit_duration)"
   ]
  },
  {
   "cell_type": "code",
   "execution_count": 127,
   "id": "b865ccd9",
   "metadata": {},
   "outputs": [
    {
     "name": "stderr",
     "output_type": "stream",
     "text": [
      "C:\\Users\\sabbe\\anaconda3\\lib\\site-packages\\seaborn\\distributions.py:2557: FutureWarning: `distplot` is a deprecated function and will be removed in a future version. Please adapt your code to use either `displot` (a figure-level function with similar flexibility) or `histplot` (an axes-level function for histograms).\n",
      "  warnings.warn(msg, FutureWarning)\n"
     ]
    },
    {
     "data": {
      "text/plain": [
       "<AxesSubplot:xlabel='transit_duration', ylabel='Density'>"
      ]
     },
     "execution_count": 127,
     "metadata": {},
     "output_type": "execute_result"
    },
    {
     "data": {
      "image/png": "[encoded data removed]",
      "text/plain": [
       "<Figure size 432x288 with 1 Axes>"
      ]
     },
     "metadata": {
      "needs_background": "light"
     },
     "output_type": "display_data"
    }
   ],
   "source": [
    "sns.distplot(df.transit_duration)"
   ]
  },
  {
   "cell_type": "code",
   "execution_count": 128,
   "id": "7c8de836",
   "metadata": {},
   "outputs": [
    {
     "data": {
      "text/plain": [
       "(7, 17)"
      ]
     },
     "execution_count": 128,
     "metadata": {},
     "output_type": "execute_result"
    }
   ],
   "source": [
    "#dropping outliers of minimum recommended stock\n",
    "outlier_minimum_recommended_stock = df[df.minimum_recommend_stock > 250000]\n",
    "outlier_minimum_recommended_stock.shape\n",
    "#print(outlier_minimum_recommended_stock)"
   ]
  },
  {
   "cell_type": "code",
   "execution_count": 130,
   "id": "e141122c",
   "metadata": {},
   "outputs": [],
   "source": [
    "#lets delete the outlier of the minimum_recommend_stock\n",
    "df = df.drop(outlier_minimum_recommended_stock.index, errors = 'ignore')"
   ]
  },
  {
   "cell_type": "code",
   "execution_count": 131,
   "id": "5f372897",
   "metadata": {},
   "outputs": [],
   "source": [
    "outlier_current_inventory = df[df.current_inventory > .2e07]\n",
    "outlier_current_inventory.shape\n",
    "#since the count is low, we can drop these records\n",
    "df = df.drop(outlier_current_inventory.index, errors = 'ignore')"
   ]
  },
  {
   "cell_type": "code",
   "execution_count": 132,
   "id": "0e72394e",
   "metadata": {},
   "outputs": [],
   "source": [
    "df.to_csv('Backorder.csv', index = False)"
   ]
  },
  {
   "cell_type": "code",
   "execution_count": null,
   "id": "288dea69",
   "metadata": {},
   "outputs": [],
   "source": []
  }
 ],
 "metadata": {
  "kernelspec": {
   "display_name": "Python 3",
   "language": "python",
   "name": "python3"
  },
  "language_info": {
   "codemirror_mode": {
    "name": "ipython",
    "version": 3
   },
   "file_extension": ".py",
   "mimetype": "text/x-python",
   "name": "python",
   "nbconvert_exporter": "python",
   "pygments_lexer": "ipython3",
   "version": "3.8.8"
  }
 },
 "nbformat": 4,
 "nbformat_minor": 5
}
