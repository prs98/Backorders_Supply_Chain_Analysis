{
 "cells": [
  {
   "cell_type": "markdown",
   "metadata": {},
   "source": [
    "# Preliminary Data Analysis with Sample Data"
   ]
  },
  {
   "cell_type": "code",
   "execution_count": 48,
   "metadata": {},
   "outputs": [],
   "source": [
    "#Importing the packages\n",
    "import pandas as pd\n",
    "import numpy as np\n",
    "import matplotlib.pylab as plt\n",
    "import seaborn as sns\n",
    "from sklearn.model_selection import train_test_split\n",
    "from sklearn.linear_model import LogisticRegression\n",
    "from sklearn.metrics import classification_report\n",
    "from sklearn.metrics import accuracy_score\n",
    "from sklearn.metrics import roc_curve\n",
    "from sklearn.model_selection import cross_val_score\n",
    "from sklearn.model_selection import GridSearchCV\n",
    "from sklearn import svm\n",
    "from sklearn.model_selection import RandomizedSearchCV\n",
    "from sklearn.ensemble import RandomForestClassifier\n",
    "from sklearn.ensemble import GradientBoostingClassifier\n",
    "from sklearn.ensemble import AdaBoostClassifier\n",
    "from scipy import stats as st\n",
    "from sklearn.neighbors import KNeighborsClassifier\n",
    "from sklearn.preprocessing import StandardScaler\n",
    "from sklearn.pipeline import Pipeline\n",
    "from sklearn.metrics import precision_score\n",
    "from sklearn.metrics import average_precision_score\n",
    "from sklearn.metrics import precision_recall_curve\n",
    "%matplotlib inline"
   ]
  },
  {
   "cell_type": "markdown",
   "metadata": {},
   "source": [
    "As a part of the preliminary data analysis, will be working on 30% of the data.\n",
    "\n",
    "1. Within the 10% of the data, will be splitting the data into train and test.\n",
    "\n",
    "2. Will be validating the models with the sample before working on the full datasets.\n",
    "\n",
    "3. Precision of the models are validated through the recall_precision_curve.\n"
   ]
  },
  {
   "cell_type": "code",
   "execution_count": 51,
   "metadata": {},
   "outputs": [],
   "source": [
    "#Reading the clean file\n",
    "masterData = pd.read_csv('Backorder.csv')"
   ]
  },
  {
   "cell_type": "code",
   "execution_count": 52,
   "metadata": {},
   "outputs": [
    {
     "data": {
      "image/png": "[encoded data removed]",
      "text/plain": [
       "<Figure size 864x576 with 1 Axes>"
      ]
     },
     "metadata": {
      "needs_background": "light"
     },
     "output_type": "display_data"
    }
   ],
   "source": [
    "plt.figure(figsize=(12,8))\n",
    "ax=sns.histplot(data=masterData,x='went_on_backorder',color='lightseagreen')\n",
    "ax.figure.savefig('Mean.png', dpi=500,bbox_inches='tight')"
   ]
  },
  {
   "cell_type": "code",
   "execution_count": 53,
   "metadata": {},
   "outputs": [
    {
     "data": {
      "text/plain": [
       "No     1628546\n",
       "Yes      11188\n",
       "Name: went_on_backorder, dtype: int64"
      ]
     },
     "execution_count": 53,
     "metadata": {},
     "output_type": "execute_result"
    }
   ],
   "source": [
    "masterData['went_on_backorder'].value_counts()"
   ]
  },
  {
   "cell_type": "code",
   "execution_count": 54,
   "metadata": {},
   "outputs": [
    {
     "data": {
      "text/html": [
       "<div>\n",
       "<style scoped>\n",
       "    .dataframe tbody tr th:only-of-type {\n",
       "        vertical-align: middle;\n",
       "    }\n",
       "\n",
       "    .dataframe tbody tr th {\n",
       "        vertical-align: top;\n",
       "    }\n",
       "\n",
       "    .dataframe thead th {\n",
       "        text-align: right;\n",
       "    }\n",
       "</style>\n",
       "<table border=\"1\" class=\"dataframe\">\n",
       "  <thead>\n",
       "    <tr style=\"text-align: right;\">\n",
       "      <th></th>\n",
       "      <th>product_id</th>\n",
       "      <th>current_inventory</th>\n",
       "      <th>transit_duration</th>\n",
       "      <th>prior_sales_1_month</th>\n",
       "      <th>prior_sales_3_month</th>\n",
       "      <th>prior_sales_6_month</th>\n",
       "      <th>prior_sales_9_month</th>\n",
       "      <th>minimum_recommend_stock</th>\n",
       "      <th>source_has_issue</th>\n",
       "      <th>source_performance_6_months</th>\n",
       "      <th>source_performance_12_months</th>\n",
       "      <th>deck_risk</th>\n",
       "      <th>oe_constraint</th>\n",
       "      <th>ppap_risk</th>\n",
       "      <th>stop_auto_buy</th>\n",
       "      <th>rev_stop</th>\n",
       "      <th>went_on_backorder</th>\n",
       "    </tr>\n",
       "  </thead>\n",
       "  <tbody>\n",
       "    <tr>\n",
       "      <th>0</th>\n",
       "      <td>2231849</td>\n",
       "      <td>0.0</td>\n",
       "      <td>2.0</td>\n",
       "      <td>0.0</td>\n",
       "      <td>4.0</td>\n",
       "      <td>12.0</td>\n",
       "      <td>23.0</td>\n",
       "      <td>2.0</td>\n",
       "      <td>No</td>\n",
       "      <td>0.00</td>\n",
       "      <td>0.00</td>\n",
       "      <td>No</td>\n",
       "      <td>No</td>\n",
       "      <td>No</td>\n",
       "      <td>Yes</td>\n",
       "      <td>No</td>\n",
       "      <td>Yes</td>\n",
       "    </tr>\n",
       "    <tr>\n",
       "      <th>1</th>\n",
       "      <td>1884556</td>\n",
       "      <td>13.0</td>\n",
       "      <td>8.0</td>\n",
       "      <td>7.0</td>\n",
       "      <td>16.0</td>\n",
       "      <td>26.0</td>\n",
       "      <td>35.0</td>\n",
       "      <td>2.0</td>\n",
       "      <td>No</td>\n",
       "      <td>0.67</td>\n",
       "      <td>0.39</td>\n",
       "      <td>No</td>\n",
       "      <td>No</td>\n",
       "      <td>No</td>\n",
       "      <td>Yes</td>\n",
       "      <td>No</td>\n",
       "      <td>Yes</td>\n",
       "    </tr>\n",
       "    <tr>\n",
       "      <th>2</th>\n",
       "      <td>1827395</td>\n",
       "      <td>0.0</td>\n",
       "      <td>2.0</td>\n",
       "      <td>0.0</td>\n",
       "      <td>0.0</td>\n",
       "      <td>0.0</td>\n",
       "      <td>0.0</td>\n",
       "      <td>0.0</td>\n",
       "      <td>No</td>\n",
       "      <td>0.00</td>\n",
       "      <td>0.00</td>\n",
       "      <td>Yes</td>\n",
       "      <td>No</td>\n",
       "      <td>Yes</td>\n",
       "      <td>Yes</td>\n",
       "      <td>No</td>\n",
       "      <td>Yes</td>\n",
       "    </tr>\n",
       "    <tr>\n",
       "      <th>3</th>\n",
       "      <td>3275515</td>\n",
       "      <td>3.0</td>\n",
       "      <td>8.0</td>\n",
       "      <td>3.0</td>\n",
       "      <td>8.0</td>\n",
       "      <td>15.0</td>\n",
       "      <td>23.0</td>\n",
       "      <td>4.0</td>\n",
       "      <td>No</td>\n",
       "      <td>0.83</td>\n",
       "      <td>0.85</td>\n",
       "      <td>No</td>\n",
       "      <td>No</td>\n",
       "      <td>No</td>\n",
       "      <td>Yes</td>\n",
       "      <td>No</td>\n",
       "      <td>No</td>\n",
       "    </tr>\n",
       "    <tr>\n",
       "      <th>4</th>\n",
       "      <td>1988945</td>\n",
       "      <td>0.0</td>\n",
       "      <td>2.0</td>\n",
       "      <td>0.0</td>\n",
       "      <td>0.0</td>\n",
       "      <td>1.0</td>\n",
       "      <td>1.0</td>\n",
       "      <td>0.0</td>\n",
       "      <td>No</td>\n",
       "      <td>0.83</td>\n",
       "      <td>0.86</td>\n",
       "      <td>Yes</td>\n",
       "      <td>No</td>\n",
       "      <td>No</td>\n",
       "      <td>No</td>\n",
       "      <td>No</td>\n",
       "      <td>Yes</td>\n",
       "    </tr>\n",
       "    <tr>\n",
       "      <th>...</th>\n",
       "      <td>...</td>\n",
       "      <td>...</td>\n",
       "      <td>...</td>\n",
       "      <td>...</td>\n",
       "      <td>...</td>\n",
       "      <td>...</td>\n",
       "      <td>...</td>\n",
       "      <td>...</td>\n",
       "      <td>...</td>\n",
       "      <td>...</td>\n",
       "      <td>...</td>\n",
       "      <td>...</td>\n",
       "      <td>...</td>\n",
       "      <td>...</td>\n",
       "      <td>...</td>\n",
       "      <td>...</td>\n",
       "      <td>...</td>\n",
       "    </tr>\n",
       "    <tr>\n",
       "      <th>22183</th>\n",
       "      <td>2297462</td>\n",
       "      <td>0.0</td>\n",
       "      <td>12.0</td>\n",
       "      <td>0.0</td>\n",
       "      <td>2.0</td>\n",
       "      <td>4.0</td>\n",
       "      <td>10.0</td>\n",
       "      <td>0.0</td>\n",
       "      <td>No</td>\n",
       "      <td>0.73</td>\n",
       "      <td>0.76</td>\n",
       "      <td>No</td>\n",
       "      <td>No</td>\n",
       "      <td>No</td>\n",
       "      <td>Yes</td>\n",
       "      <td>No</td>\n",
       "      <td>Yes</td>\n",
       "    </tr>\n",
       "    <tr>\n",
       "      <th>22184</th>\n",
       "      <td>1830221</td>\n",
       "      <td>0.0</td>\n",
       "      <td>8.0</td>\n",
       "      <td>0.0</td>\n",
       "      <td>0.0</td>\n",
       "      <td>0.0</td>\n",
       "      <td>0.0</td>\n",
       "      <td>0.0</td>\n",
       "      <td>No</td>\n",
       "      <td>0.98</td>\n",
       "      <td>0.98</td>\n",
       "      <td>Yes</td>\n",
       "      <td>No</td>\n",
       "      <td>Yes</td>\n",
       "      <td>Yes</td>\n",
       "      <td>No</td>\n",
       "      <td>Yes</td>\n",
       "    </tr>\n",
       "    <tr>\n",
       "      <th>22185</th>\n",
       "      <td>2088975</td>\n",
       "      <td>0.0</td>\n",
       "      <td>9.0</td>\n",
       "      <td>2.0</td>\n",
       "      <td>3.0</td>\n",
       "      <td>6.0</td>\n",
       "      <td>7.0</td>\n",
       "      <td>0.0</td>\n",
       "      <td>No</td>\n",
       "      <td>0.70</td>\n",
       "      <td>0.66</td>\n",
       "      <td>No</td>\n",
       "      <td>No</td>\n",
       "      <td>No</td>\n",
       "      <td>Yes</td>\n",
       "      <td>No</td>\n",
       "      <td>Yes</td>\n",
       "    </tr>\n",
       "    <tr>\n",
       "      <th>22186</th>\n",
       "      <td>1129829</td>\n",
       "      <td>16.0</td>\n",
       "      <td>9.0</td>\n",
       "      <td>0.0</td>\n",
       "      <td>7.0</td>\n",
       "      <td>7.0</td>\n",
       "      <td>8.0</td>\n",
       "      <td>0.0</td>\n",
       "      <td>No</td>\n",
       "      <td>0.69</td>\n",
       "      <td>0.68</td>\n",
       "      <td>No</td>\n",
       "      <td>No</td>\n",
       "      <td>Yes</td>\n",
       "      <td>Yes</td>\n",
       "      <td>No</td>\n",
       "      <td>No</td>\n",
       "    </tr>\n",
       "    <tr>\n",
       "      <th>22187</th>\n",
       "      <td>3104959</td>\n",
       "      <td>-11.0</td>\n",
       "      <td>2.0</td>\n",
       "      <td>343.0</td>\n",
       "      <td>664.0</td>\n",
       "      <td>779.0</td>\n",
       "      <td>814.0</td>\n",
       "      <td>89.0</td>\n",
       "      <td>No</td>\n",
       "      <td>0.73</td>\n",
       "      <td>0.70</td>\n",
       "      <td>No</td>\n",
       "      <td>No</td>\n",
       "      <td>No</td>\n",
       "      <td>Yes</td>\n",
       "      <td>No</td>\n",
       "      <td>Yes</td>\n",
       "    </tr>\n",
       "  </tbody>\n",
       "</table>\n",
       "<p>22188 rows × 17 columns</p>\n",
       "</div>"
      ],
      "text/plain": [
       "       product_id  current_inventory  transit_duration  prior_sales_1_month  \\\n",
       "0         2231849                0.0               2.0                  0.0   \n",
       "1         1884556               13.0               8.0                  7.0   \n",
       "2         1827395                0.0               2.0                  0.0   \n",
       "3         3275515                3.0               8.0                  3.0   \n",
       "4         1988945                0.0               2.0                  0.0   \n",
       "...           ...                ...               ...                  ...   \n",
       "22183     2297462                0.0              12.0                  0.0   \n",
       "22184     1830221                0.0               8.0                  0.0   \n",
       "22185     2088975                0.0               9.0                  2.0   \n",
       "22186     1129829               16.0               9.0                  0.0   \n",
       "22187     3104959              -11.0               2.0                343.0   \n",
       "\n",
       "       prior_sales_3_month  prior_sales_6_month  prior_sales_9_month  \\\n",
       "0                      4.0                 12.0                 23.0   \n",
       "1                     16.0                 26.0                 35.0   \n",
       "2                      0.0                  0.0                  0.0   \n",
       "3                      8.0                 15.0                 23.0   \n",
       "4                      0.0                  1.0                  1.0   \n",
       "...                    ...                  ...                  ...   \n",
       "22183                  2.0                  4.0                 10.0   \n",
       "22184                  0.0                  0.0                  0.0   \n",
       "22185                  3.0                  6.0                  7.0   \n",
       "22186                  7.0                  7.0                  8.0   \n",
       "22187                664.0                779.0                814.0   \n",
       "\n",
       "       minimum_recommend_stock source_has_issue  source_performance_6_months  \\\n",
       "0                          2.0               No                         0.00   \n",
       "1                          2.0               No                         0.67   \n",
       "2                          0.0               No                         0.00   \n",
       "3                          4.0               No                         0.83   \n",
       "4                          0.0               No                         0.83   \n",
       "...                        ...              ...                          ...   \n",
       "22183                      0.0               No                         0.73   \n",
       "22184                      0.0               No                         0.98   \n",
       "22185                      0.0               No                         0.70   \n",
       "22186                      0.0               No                         0.69   \n",
       "22187                     89.0               No                         0.73   \n",
       "\n",
       "       source_performance_12_months deck_risk oe_constraint ppap_risk  \\\n",
       "0                              0.00        No            No        No   \n",
       "1                              0.39        No            No        No   \n",
       "2                              0.00       Yes            No       Yes   \n",
       "3                              0.85        No            No        No   \n",
       "4                              0.86       Yes            No        No   \n",
       "...                             ...       ...           ...       ...   \n",
       "22183                          0.76        No            No        No   \n",
       "22184                          0.98       Yes            No       Yes   \n",
       "22185                          0.66        No            No        No   \n",
       "22186                          0.68        No            No       Yes   \n",
       "22187                          0.70        No            No        No   \n",
       "\n",
       "      stop_auto_buy rev_stop went_on_backorder  \n",
       "0               Yes       No               Yes  \n",
       "1               Yes       No               Yes  \n",
       "2               Yes       No               Yes  \n",
       "3               Yes       No                No  \n",
       "4                No       No               Yes  \n",
       "...             ...      ...               ...  \n",
       "22183           Yes       No               Yes  \n",
       "22184           Yes       No               Yes  \n",
       "22185           Yes       No               Yes  \n",
       "22186           Yes       No                No  \n",
       "22187           Yes       No               Yes  \n",
       "\n",
       "[22188 rows x 17 columns]"
      ]
     },
     "execution_count": 54,
     "metadata": {},
     "output_type": "execute_result"
    }
   ],
   "source": [
    "join1=masterData[masterData['went_on_backorder']=='Yes']\n",
    "join2=masterData[masterData['went_on_backorder']=='No']\n",
    "join3=join2.sample(n=11000, random_state = 2)\n",
    "\n",
    "masterData=pd.merge(join1,join3,how='outer')\n",
    "masterData=masterData.sample(frac=1).reset_index(drop=True)\n",
    "masterData"
   ]
  },
  {
   "cell_type": "code",
   "execution_count": 55,
   "metadata": {},
   "outputs": [
    {
     "data": {
      "text/plain": [
       "((22188, 17), (22188,))"
      ]
     },
     "execution_count": 55,
     "metadata": {},
     "output_type": "execute_result"
    }
   ],
   "source": [
    "#Preparing the data for modeling\n",
    "#X = pd.DataFrame(masterData.columns)\n",
    "X = masterData[masterData.columns]\n",
    "y = masterData['went_on_backorder']\n",
    "X.shape, y.shape"
   ]
  },
  {
   "cell_type": "code",
   "execution_count": 56,
   "metadata": {},
   "outputs": [
    {
     "data": {
      "text/plain": [
       "((22188, 10), (22188,))"
      ]
     },
     "execution_count": 56,
     "metadata": {},
     "output_type": "execute_result"
    }
   ],
   "source": [
    "#Convert the categorical data into numerical\n",
    "y = y.replace('Yes', 1)\n",
    "y = y.replace('No', 0)\n",
    "X['source_has_issue'] = X.source_has_issue.map({'Yes':1, 'No':0})\n",
    "X['deck_risk'] = X.deck_risk.map({'Yes':1, 'No':0})\n",
    "X['oe_constraint'] = X.oe_constraint.map({'Yes':1, 'No':0})\n",
    "X['ppap_risk'] = X.ppap_risk.map({'Yes':1, 'No':0})\n",
    "X['stop_auto_buy'] = X.stop_auto_buy.map({'Yes':1, 'No':0})\n",
    "X['rev_stop'] = X.rev_stop.map({'Yes':1, 'No':0})\n",
    "X = X.drop(['went_on_backorder', 'source_has_issue', 'rev_stop', 'deck_risk', 'ppap_risk', 'stop_auto_buy','product_id'], axis = 1, errors = 'ignore')\n",
    "X.shape, y.shape"
   ]
  },
  {
   "cell_type": "code",
   "execution_count": 57,
   "metadata": {},
   "outputs": [
    {
     "data": {
      "text/plain": [
       "((16641, 10), (16641,), (5547, 10), (5547,))"
      ]
     },
     "execution_count": 57,
     "metadata": {},
     "output_type": "execute_result"
    }
   ],
   "source": [
    "#get the 10% of the data\n",
    "X_sample, X_data, y_sample, y_data = train_test_split(X, y, test_size = 0.25, random_state = 42)\n",
    "X_sample.shape, y_sample.shape, X_data.shape, y_data.shape"
   ]
  },
  {
   "cell_type": "code",
   "execution_count": 58,
   "metadata": {},
   "outputs": [
    {
     "data": {
      "text/plain": [
       "((11648, 10), (4993, 10), (11648,), (4993,))"
      ]
     },
     "execution_count": 58,
     "metadata": {},
     "output_type": "execute_result"
    }
   ],
   "source": [
    "X_train, X_test, y_train, y_test = train_test_split(X_sample, y_sample, test_size = 0.30, random_state = 42)\n",
    "X_train.shape, X_test.shape, y_train.shape, y_test.shape"
   ]
  },
  {
   "cell_type": "markdown",
   "metadata": {},
   "source": [
    "# Training the KNN Model Classifier"
   ]
  },
  {
   "cell_type": "code",
   "execution_count": 59,
   "metadata": {},
   "outputs": [
    {
     "name": "stdout",
     "output_type": "stream",
     "text": [
      "              precision    recall  f1-score   support\n",
      "\n",
      "           0       0.75      0.70      0.72      2484\n",
      "           1       0.72      0.77      0.75      2509\n",
      "\n",
      "    accuracy                           0.74      4993\n",
      "   macro avg       0.74      0.73      0.73      4993\n",
      "weighted avg       0.74      0.74      0.73      4993\n",
      "\n"
     ]
    }
   ],
   "source": [
    "steps = [('scaler', StandardScaler()),\n",
    "        ('knn', KNeighborsClassifier(n_jobs = -1))]\n",
    "#Create the pipeline: pipeline\n",
    "pipeline_knn = Pipeline(steps)\n",
    "\n",
    "# Fit to the training set\n",
    "pipeline_knn.fit(X_train, y_train)\n",
    "knn_prediction = pipeline_knn.predict( X_test )\n",
    "# get the classification report\n",
    "knn_report = classification_report( y_test, knn_prediction )\n",
    "#print the report\n",
    "print(knn_report)"
   ]
  },
  {
   "cell_type": "markdown",
   "metadata": {},
   "source": [
    "# Training the SVC Model Classifier"
   ]
  },
  {
   "cell_type": "code",
   "execution_count": 60,
   "metadata": {},
   "outputs": [
    {
     "name": "stdout",
     "output_type": "stream",
     "text": [
      "              precision    recall  f1-score   support\n",
      "\n",
      "           0       0.59      0.70      0.64      2484\n",
      "           1       0.63      0.51      0.57      2509\n",
      "\n",
      "    accuracy                           0.61      4993\n",
      "   macro avg       0.61      0.61      0.60      4993\n",
      "weighted avg       0.61      0.61      0.60      4993\n",
      "\n"
     ]
    }
   ],
   "source": [
    "steps = [('scaler', StandardScaler()),\n",
    "        ('svc', svm.SVC(class_weight = 'balanced'))]\n",
    "#Create the pipeline: pipeline\n",
    "pipeline_svc = Pipeline(steps)\n",
    "\n",
    "# Fit to the training set\n",
    "pipeline_svc.fit(X_train, y_train)\n",
    "svc_prediction = pipeline_svc.predict( X_test )\n",
    "# get the classification report\n",
    "svc_report = classification_report( y_test, svc_prediction )\n",
    "#print the report\n",
    "print(svc_report)"
   ]
  },
  {
   "cell_type": "markdown",
   "metadata": {},
   "source": [
    "# Training the LogisticRegression Model "
   ]
  },
  {
   "cell_type": "code",
   "execution_count": 61,
   "metadata": {},
   "outputs": [
    {
     "name": "stdout",
     "output_type": "stream",
     "text": [
      "              precision    recall  f1-score   support\n",
      "\n",
      "           0       0.60      0.65      0.62      2484\n",
      "           1       0.62      0.58      0.60      2509\n",
      "\n",
      "    accuracy                           0.61      4993\n",
      "   macro avg       0.61      0.61      0.61      4993\n",
      "weighted avg       0.61      0.61      0.61      4993\n",
      "\n"
     ]
    }
   ],
   "source": [
    "steps = [('scaler', StandardScaler()),\n",
    "        ('logreg', LogisticRegression(class_weight = 'balanced'))]\n",
    "#Create the pipeline: pipeline\n",
    "pipeline_logreg = Pipeline(steps)\n",
    "\n",
    "# Fit to the training set\n",
    "pipeline_logreg.fit(X_train, y_train)\n",
    "logreg_prediction = pipeline_logreg.predict( X_test )\n",
    "# get the classification report\n",
    "logreg_report = classification_report( y_test, logreg_prediction )\n",
    "#print the report\n",
    "print(logreg_report)"
   ]
  },
  {
   "cell_type": "markdown",
   "metadata": {},
   "source": [
    "# Training the RandomForest Classifier"
   ]
  },
  {
   "cell_type": "code",
   "execution_count": 62,
   "metadata": {},
   "outputs": [
    {
     "name": "stdout",
     "output_type": "stream",
     "text": [
      "              precision    recall  f1-score   support\n",
      "\n",
      "           0       0.91      0.86      0.89      2484\n",
      "           1       0.87      0.92      0.89      2509\n",
      "\n",
      "    accuracy                           0.89      4993\n",
      "   macro avg       0.89      0.89      0.89      4993\n",
      "weighted avg       0.89      0.89      0.89      4993\n",
      "\n"
     ]
    }
   ],
   "source": [
    "#Train default RandomForest on 30% of the data\n",
    "rfmodel = RandomForestClassifier(random_state = 42)\n",
    "#Fit the training set\n",
    "rfmodel.fit(X_train, y_train)\n",
    "rfmodel_prediction = rfmodel.predict(X_test)\n",
    "#get the classification report\n",
    "rfmodel_report =  classification_report(y_test, rfmodel_prediction)\n",
    "#print the report\n",
    "print(rfmodel_report)"
   ]
  },
  {
   "cell_type": "markdown",
   "metadata": {},
   "source": [
    "# Training GradientBoosting Classifier model"
   ]
  },
  {
   "cell_type": "code",
   "execution_count": 63,
   "metadata": {},
   "outputs": [
    {
     "name": "stdout",
     "output_type": "stream",
     "text": [
      "              precision    recall  f1-score   support\n",
      "\n",
      "           0       0.88      0.85      0.86      2484\n",
      "           1       0.85      0.88      0.87      2509\n",
      "\n",
      "    accuracy                           0.87      4993\n",
      "   macro avg       0.87      0.87      0.87      4993\n",
      "weighted avg       0.87      0.87      0.87      4993\n",
      "\n"
     ]
    }
   ],
   "source": [
    "#Train default RandomForest on 30% of the data\n",
    "gbmodel = GradientBoostingClassifier(random_state = 42)\n",
    "#Fit the training set\n",
    "gbmodel.fit(X_train, y_train)\n",
    "gbmodel_prediction = gbmodel.predict(X_test)\n",
    "#get the classification report\n",
    "gbmodel_report =  classification_report(y_test, gbmodel_prediction)\n",
    "#print the report\n",
    "print(gbmodel_report)"
   ]
  },
  {
   "cell_type": "markdown",
   "metadata": {},
   "source": [
    "# Training AdaBoostClassifier Model"
   ]
  },
  {
   "cell_type": "code",
   "execution_count": 64,
   "metadata": {},
   "outputs": [
    {
     "name": "stdout",
     "output_type": "stream",
     "text": [
      "              precision    recall  f1-score   support\n",
      "\n",
      "           0       0.87      0.82      0.84      2484\n",
      "           1       0.83      0.87      0.85      2509\n",
      "\n",
      "    accuracy                           0.85      4993\n",
      "   macro avg       0.85      0.85      0.85      4993\n",
      "weighted avg       0.85      0.85      0.85      4993\n",
      "\n"
     ]
    }
   ],
   "source": [
    "#Train default RandomForest on 30% of the data\n",
    "abmodel = AdaBoostClassifier(random_state = 42)\n",
    "#Fit the training set\n",
    "abmodel.fit(X_train, y_train)\n",
    "abmodel_prediction = abmodel.predict(X_test)\n",
    "#get the classification report\n",
    "abmodel_report =  classification_report(y_test, abmodel_prediction)\n",
    "#print the report\n",
    "print(abmodel_report)"
   ]
  },
  {
   "cell_type": "markdown",
   "metadata": {},
   "source": [
    "# Training the AdaBoostClassifier with RandomForest Estimator"
   ]
  },
  {
   "cell_type": "code",
   "execution_count": 65,
   "metadata": {},
   "outputs": [
    {
     "name": "stdout",
     "output_type": "stream",
     "text": [
      "              precision    recall  f1-score   support\n",
      "\n",
      "           0       0.92      0.86      0.89      2484\n",
      "           1       0.87      0.92      0.90      2509\n",
      "\n",
      "    accuracy                           0.89      4993\n",
      "   macro avg       0.90      0.89      0.89      4993\n",
      "weighted avg       0.90      0.89      0.89      4993\n",
      "\n"
     ]
    }
   ],
   "source": [
    "#Train default RandomForest on 30% of the data\n",
    "abmodel_rf = AdaBoostClassifier(base_estimator = rfmodel, random_state = 42)\n",
    "#Fit the training set\n",
    "abmodel_rf.fit(X_train, y_train)\n",
    "abmodel_prediction_rf = abmodel_rf.predict(X_test)\n",
    "#get the classification report\n",
    "abmodel_report_rf =  classification_report(y_test, abmodel_prediction_rf)\n",
    "#print the report\n",
    "print(abmodel_report_rf)"
   ]
  },
  {
   "cell_type": "code",
   "execution_count": 43,
   "metadata": {},
   "outputs": [
    {
     "data": {
      "text/plain": [
       "current_inventory               0.409697\n",
       "prior_sales_6_month             0.091196\n",
       "source_performance_6_months     0.086669\n",
       "source_performance_12_months    0.086269\n",
       "prior_sales_3_month             0.084116\n",
       "prior_sales_1_month             0.073360\n",
       "prior_sales_9_month             0.072090\n",
       "minimum_recommend_stock         0.049787\n",
       "transit_duration                0.046733\n",
       "oe_constraint                   0.000082\n",
       "dtype: float64"
      ]
     },
     "execution_count": 43,
     "metadata": {},
     "output_type": "execute_result"
    }
   ],
   "source": [
    "feature_import_rf = pd.Series(rfmodel.feature_importances_, index = X_test.columns)\n",
    "feature_import_rf.sort_values(ascending = False)\n"
   ]
  },
  {
   "cell_type": "code",
   "execution_count": 44,
   "metadata": {},
   "outputs": [
    {
     "data": {
      "text/plain": [
       "current_inventory               0.628698\n",
       "prior_sales_1_month             0.125767\n",
       "prior_sales_3_month             0.087195\n",
       "prior_sales_6_month             0.061263\n",
       "prior_sales_9_month             0.038240\n",
       "transit_duration                0.026493\n",
       "source_performance_6_months     0.015331\n",
       "source_performance_12_months    0.009316\n",
       "minimum_recommend_stock         0.007697\n",
       "oe_constraint                   0.000000\n",
       "dtype: float64"
      ]
     },
     "execution_count": 44,
     "metadata": {},
     "output_type": "execute_result"
    }
   ],
   "source": [
    "feature_import_gb = pd.Series(gbmodel.feature_importances_, index = X_test.columns)\n",
    "feature_import_gb.sort_values(ascending = False)\n"
   ]
  },
  {
   "cell_type": "markdown",
   "metadata": {},
   "source": [
    "# Traning the AdaBoostClassifier with GradientBoosting Estimator"
   ]
  },
  {
   "cell_type": "code",
   "execution_count": 45,
   "metadata": {},
   "outputs": [
    {
     "name": "stdout",
     "output_type": "stream",
     "text": [
      "              precision    recall  f1-score   support\n",
      "\n",
      "           0       0.90      0.85      0.87      2472\n",
      "           1       0.86      0.90      0.88      2521\n",
      "\n",
      "    accuracy                           0.88      4993\n",
      "   macro avg       0.88      0.88      0.88      4993\n",
      "weighted avg       0.88      0.88      0.88      4993\n",
      "\n"
     ]
    }
   ],
   "source": [
    "#Train default AdaBoost model with the GB estimator\n",
    "abmodel_gb = AdaBoostClassifier(base_estimator = gbmodel, random_state = 42)\n",
    "#Fit the training model\n",
    "abmodel_gb.fit(X_train, y_train)\n",
    "abmodel_prediction_gb = abmodel_gb.predict(X_test)\n",
    "#get the classication report\n",
    "abmodel_report_gb = classification_report(y_test, abmodel_prediction_gb)\n",
    "#print the report\n",
    "print(abmodel_report_gb)"
   ]
  },
  {
   "cell_type": "code",
   "execution_count": 46,
   "metadata": {},
   "outputs": [
    {
     "data": {
      "text/plain": [
       "Text(0.5, 1.0, 'ROC Curve')"
      ]
     },
     "execution_count": 46,
     "metadata": {},
     "output_type": "execute_result"
    },
    {
     "data": {
      "image/png": "[encoded data removed]",
      "text/plain": [
       "<Figure size 648x648 with 1 Axes>"
      ]
     },
     "metadata": {
      "needs_background": "light"
     },
     "output_type": "display_data"
    }
   ],
   "source": [
    "#plot ROC Curves\n",
    "fig , ax1 = plt.subplots(figsize=(9,9) )\n",
    "plt.plot([0, 1], [0, 1], 'k--')\n",
    "estimators =[pipeline_knn, pipeline_logreg, rfmodel, gbmodel, abmodel ]\n",
    "classifiers=['KNN', 'LogisticRegression', 'RandomForestClassifier','GradientBoostingClassifier',\n",
    "           'AdaBoostClassifier']\n",
    "colors = ['b', 'g', 'r', 'c', 'm']\n",
    "for i, estimator in enumerate(estimators):\n",
    "    y_pred_prob = estimator.predict_proba(X_test)[:,1]\n",
    "    fpr, tpr, thresholds= roc_curve(y_test, y_pred_prob)\n",
    "    plt.plot(fpr, tpr, label=classifiers[i],color=colors[i]) \n",
    "plt.xlabel('False Positive Rate')\n",
    "plt.ylabel('True Positive Rate')\n",
    "plt.legend(loc=4)\n",
    "plt.title('ROC Curve')"
   ]
  },
  {
   "cell_type": "code",
   "execution_count": 47,
   "metadata": {},
   "outputs": [
    {
     "data": {
      "text/plain": [
       "Text(0.5, 1.0, 'Recall Precision Curve')"
      ]
     },
     "execution_count": 47,
     "metadata": {},
     "output_type": "execute_result"
    },
    {
     "data": {
      "image/png": "[encoded data removed]",
      "text/plain": [
       "<Figure size 648x648 with 1 Axes>"
      ]
     },
     "metadata": {
      "needs_background": "light"
     },
     "output_type": "display_data"
    }
   ],
   "source": [
    "#plot Recall-Precision Curves\n",
    "fig , ax1 = plt.subplots(figsize=(9,9) )\n",
    "estimators =[pipeline_knn, pipeline_logreg, rfmodel, gbmodel, abmodel ]\n",
    "classifiers=['KNN', 'LogisticRegression', 'RandomForestClassifier','GradientBoostingClassifier',\n",
    "           'AdaBoostClassifier']\n",
    "colors = ['b', 'g', 'r', 'c', 'm']\n",
    "for i, estimator in enumerate(estimators):\n",
    "    y_pred_prob = estimator.predict_proba(X_test)[:,1]\n",
    "    precision, recall, _ = precision_recall_curve(y_test,y_pred_prob)\n",
    "    average_precision= average_precision_score(y_test, y_pred_prob, average=\"micro\")\n",
    "    plt.plot(recall, precision, label='%s (average=%.3f)'%(classifiers[i],average_precision), color=colors[i])\n",
    "plt.xlabel('Recall')\n",
    "plt.ylabel('Precision')\n",
    "plt.legend(loc=1)\n",
    "plt.title('Recall Precision Curve')"
   ]
  },
  {
   "cell_type": "code",
   "execution_count": null,
   "metadata": {},
   "outputs": [],
   "source": []
  }
 ],
 "metadata": {
  "kernelspec": {
   "display_name": "Python 3",
   "language": "python",
   "name": "python3"
  },
  "language_info": {
   "codemirror_mode": {
    "name": "ipython",
    "version": 3
   },
   "file_extension": ".py",
   "mimetype": "text/x-python",
   "name": "python",
   "nbconvert_exporter": "python",
   "pygments_lexer": "ipython3",
   "version": "3.8.8"
  }
 },
 "nbformat": 4,
 "nbformat_minor": 4
}
